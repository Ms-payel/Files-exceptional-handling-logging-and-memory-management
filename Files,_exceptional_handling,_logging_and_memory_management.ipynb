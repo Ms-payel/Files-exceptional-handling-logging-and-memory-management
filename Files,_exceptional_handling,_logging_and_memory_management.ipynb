{
  "nbformat": 4,
  "nbformat_minor": 0,
  "metadata": {
    "colab": {
      "provenance": []
    },
    "kernelspec": {
      "name": "python3",
      "display_name": "Python 3"
    },
    "language_info": {
      "name": "python"
    }
  },
  "cells": [
    {
      "cell_type": "markdown",
      "source": [
        "1. What is the difference between interpreted and compiled languages?\n",
        "\n",
        "   ->**Interpreted Language** :\n",
        "\n",
        "  * Process :The source code is translated and executed line by line while the program is running.\n",
        "  * Execution Speed :Generally slower because the interpreter translates each line as it goes.\n",
        "  * Development Cycle: Faster, as code can be run immediately after being changed without a separate compile step.\n",
        "  * Portability :More portable, as the source code can run on any system that has the correct interpreter installed.\n",
        "  * Debugging:Easier to debug, as errors are reported line by line as they occur.\n",
        "  * Examples:\tJavaScript, Python, Perl, and Ruby\n",
        "\n",
        "  **Compiled Language**:\n",
        "\n",
        " * Process:The source code is translated into machine code once, before the program is run.\n",
        " * Execution Speed: Generally faster because the program is already in machine code.\n",
        " * Development Cycle:Slower, as it requires an initial compilation step after any code change.\n",
        " * Portability: Less portable, as the compiled executable is often specific to a particular operating system and hardware architecture.\n",
        " * Debugging:\tCan be more challenging to debug, as the error messages refer to the compiled code, not the original source.\n",
        " * Examples:C, C++, Rust, and Go"
      ],
      "metadata": {
        "id": "yl4Wp-nCAZlt"
      }
    },
    {
      "cell_type": "markdown",
      "source": [
        "2. What is exception handling in Python?\n",
        "   \n",
        "   ->Exception handling in Python is a mechanism for gracefully managing runtime errors or unexpected events, known as exceptions, that disrupt the normal flow of a program. Instead of the program crashing abruptly, exception handling allows you to detect, respond to, and potentially recover from these issues, making your code more robust and user-friendly.\n",
        "\n",
        "   The core components of Python's exception handling are:\n",
        "* try block: This block encloses the code that might raise an exception. If an exception occurs within the try block, the program execution immediately jumps to the corresponding except block.\n",
        "* except block: This block defines how to handle a specific type of exception or a general exception. You can have multiple except blocks to handle different types of exceptions, or a single generic except block to catch any exception.\n",
        "* else block (optional): This block executes if the code within the try block completes without raising any exceptions.\n",
        "* finally block (optional): This block always executes, regardless of whether an exception occurred in the try block or was handled by an except block. It is typically used for cleanup operations, such as closing files or releasing resources.\n",
        "* raise statement: This statement is used to explicitly trigger an exception, either a built-in Python exception or a custom exception defined by the programmer."
      ],
      "metadata": {
        "id": "KrfkIk8pEPUP"
      }
    },
    {
      "cell_type": "markdown",
      "source": [
        "3.  What is the purpose of the finally block in exception handling?\n",
        "\n",
        "    ->The finally block in exception handling ensures that crucial cleanup code executes regardless of whether an exception is thrown, caught, or even occurs in the try block. Its primary purpose is to guarantee the release of resources such as closing files, database connections, or network sockets, thus preventing resource leaks and maintaining program stability.\n",
        "\n",
        "    **Key characteristics and use cases:**\n",
        "* Guaranteed Execution: The code within the finally block will execute no matter what happens in the try or catch blocks, including normal execution, exceptions being thrown and caught, or even if a return statement is encountered.\n",
        "* Resource Cleanup: It's the ideal place to put code that must run to free up resources, such as:\n",
        "Closing file streams.\n",
        "Closing database connections.\n",
        "Closing network sockets.\n",
        "* Prevents Resource Leaks: By ensuring cleanup code runs, the finally block prevents memory and other resource leaks that can occur if an exception causes code to be bypassed.\n",
        "* Handles All Scenarios: It executes even if the try block has no exceptions, if an unhandled exception occurs in the try block, or if the catch block re-throws an exception.\n",
        "* Alternative to try-with-resources (Java): While newer constructs like try-with-resources in Java can handle resource cleanup automatically for certain objects, the finally block offers more general-purpose control for situations where such automatic handling isn't available or sufficient"
      ],
      "metadata": {
        "id": "Y9kt1UjVFVGn"
      }
    },
    {
      "cell_type": "markdown",
      "source": [
        "4. What is logging in Python?\n",
        "   \n",
        "   ->Logging in Python is the process of systematically recording events that occur during the execution of a program. It involves capturing and storing information about various occurrences, such as errors, warnings, informational messages, and debugging details. This information, typically called \"logs,\" provides valuable insights into the application's behavior, helps in debugging, troubleshooting, and monitoring its performance and usage patterns.\n",
        "\n",
        "   \n",
        "Python provides a built-in logging module in its standard library, offering a flexible and robust framework for managing and emitting log messages. This module allows developers to:\n",
        "* Create and configure loggers: Loggers are the entry points for emitting log messages. They can be named to allow for specific configurations.\n",
        "* Define log levels: Messages can be categorized by severity using predefined levels like DEBUG, INFO, WARNING, ERROR, and CRITICAL. This allows for filtering and handling messages based on their importance.\n",
        "Use handlers: Handlers determine where the log messages are sent, such as the console, a file, email, or a network service.\n",
        "* Format log messages: Formatters control the layout and content of the log messages, including timestamps, log levels, and custom information.\n",
        "Why is logging important?\n",
        "* Debugging and Troubleshooting: Logs provide a historical record of events, making it easier to pinpoint the source of errors and understand the program's state when issues occurred.\n",
        "Monitoring and Performance Analysis: By logging key events and metrics, developers can monitor application health, track performance, and identify potential bottlenecks.\n",
        "* Auditing and Security: Logs can be used to track user activity, detect unauthorized access attempts, and fulfill compliance requirements.\n",
        "* Understanding Application Flow: Logs help in understanding the execution path of complex applications, especially when dealing with multiple modules or asynchronous operations."
      ],
      "metadata": {
        "id": "b8Omh0zmGgAt"
      }
    },
    {
      "cell_type": "markdown",
      "source": [
        "5. What is the significance of the __del__ method in Python?\n",
        "   \n",
        "   ->The __ del__ method in Python, also known as the destructor, holds significance as it allows for the definition of cleanup actions to be performed when an object is about to be destroyed.\n",
        "\n",
        "   Key aspects of its significance:\n",
        "* Resource Management: The primary use case for __ del__ is to release external resources held by an object, such as file handles, network connections, or database connections. This ensures that these resources are properly closed or deallocated when the object is no longer needed.\n",
        "* Automatic Invocation: Unlike regular methods, __ del__ is automatically invoked by Python's garbage collector when an object's reference count drops to zero, meaning there are no longer any references to that object in the program.\n",
        "* Cleanup Operations: It provides a mechanism to execute specific cleanup logic before an object's memory is reclaimed. This can include removing temporary files, unregistering from event listeners, or clearing entries in global caches associated with the object.\n",
        "* Important considerations regarding __ del__:\n",
        "Non-deterministic Timing: The exact timing of __ del__ execution is not guaranteed, as it depends on when the garbage collector runs. This makes it unsuitable for critical cleanup tasks that require immediate or guaranteed execution.\n",
        "* Circular References: In cases of circular references (where objects refer to each other), the garbage collector might not be able to detect and collect these objects immediately, potentially delaying or preventing __ del__ from being called.\n",
        "* Alternatives for Critical Cleanup: For reliable and guaranteed resource management, context managers (using with statements) and finally blocks in try-except-finally statements are generally preferred over __ del__."
      ],
      "metadata": {
        "id": "Z3QT6nKKHm6i"
      }
    },
    {
      "cell_type": "markdown",
      "source": [
        "6. What is the difference between import and from ... import in Python?\n",
        "   \n",
        "   ->In Python, both import and from ... import statements are used to bring modules or parts of modules into the current namespace, but they differ in how they expose those imported elements.\n",
        "\n",
        "   import module_name :\n",
        "\n",
        "   * This statement imports the entire module_name and makes it available under its own namespace.\n",
        "* To access any function, class, or variable within the module, you must prefix it with the module name and a dot (.).\n",
        "\n",
        "    import math\n",
        "\n",
        "    (To use the 'sqrt' function from the 'math' module)\n",
        "    \n",
        "    result = math.sqrt(25)\n",
        "    \n",
        "    print(result)\n",
        "\n",
        "  from module_name import object_name :\n",
        "* This statement imports specific objects (functions, classes, or variables) directly from module_name into the current namespace.\n",
        "* You can then use these imported objects directly without needing to prefix them with the module name\n",
        "\n",
        "from math import sqrt\n",
        "\n",
        "(To use the 'sqrt' function directly)\n",
        "\n",
        "result = sqrt(25)\n",
        "\n",
        "print(result)\n",
        "\n",
        "Key Differences:\n",
        "\n",
        "* Namespace: import module_name brings the module into its own namespace, requiring module_name.object_name to access its contents. from module_name import object_name brings specific objects directly into the current namespace, allowing direct use of object_name.\n",
        "* Specificity: import imports the entire module, while from ... import allows for selective importing of specific components.\n",
        "* Name Collisions: Using from ... import can lead to name collisions if the imported object has the same name as an existing object in your current namespace. import reduces this risk by keeping module contents within their own namespace.\n",
        "* Readability: For a few specific elements, from ... import can make code more concise. For extensive use of a module, import often provides better clarity on the origin of functions and variables."
      ],
      "metadata": {
        "id": "dpikU_SsI2TL"
      }
    },
    {
      "cell_type": "markdown",
      "source": [
        "7. How can you handle multiple exceptions in Python?\n",
        "   \n",
        "   ->In Python, handling multiple exceptions can be achieved through several methods, depending on whether the exceptions require the same or different handling logic.\n",
        "  * Using multiple except blocks:\n",
        "     \n",
        "    try:\n",
        "    \n",
        "    x = int(input(\"Enter a number: \"))\n",
        "    \n",
        "    result = 10 / x\n",
        "\n",
        "    except ZeroDivisionError:\n",
        "    \n",
        "    print(\"You can't divide by zero!\")\n",
        "\n",
        "    except ValueError:\n",
        "    \n",
        "    print(\"Invalid input. Please enter a number.\")\n",
        "\n",
        "  * Handling multiple exceptions in a single except\n",
        "\n",
        "    try:\n",
        "    \n",
        "    x = int(input(\"Enter a number: \"))\n",
        "    \n",
        "    result = 10 / x\n",
        "\n",
        "    except (ZeroDivisionError, ValueError):\n",
        "    \n",
        "    print(\"An error occurred: either invalid input or division by zero.\")\n",
        "\n",
        "* Catching all exceptions with a base class\n",
        "\n",
        "    try:\n",
        "    \n",
        "    x = int(input(\"Enter a number: \"))\n",
        "    \n",
        "    result = 10 / x\n",
        "    \n",
        "    except Exception as e:\n",
        "    \n",
        "    print(\"An error occurred:\", e)\n",
        "\n",
        "* Using else and finally\n",
        "\n",
        "    try:\n",
        "    \n",
        "    x = int(input(\"Enter a number: \"))\n",
        "    \n",
        "    result = 10 / x\n",
        "    \n",
        "    except (ZeroDivisionError, ValueError) as e:\n",
        "    \n",
        "    print(\"Error:\", e)\n",
        "    \n",
        "    else:\n",
        "    \n",
        "    print(\"Success! Result =\", result)\n",
        "    \n",
        "    finally:\n",
        "    \n",
        "    print(\"This block always runs.\")\n",
        "\n",
        "\n",
        "\n"
      ],
      "metadata": {
        "id": "Q45xweksLYKL"
      }
    },
    {
      "cell_type": "markdown",
      "source": [
        "8.What is the purpose of the with statement when handling files in Python?\n",
        "\n",
        "  ->The purpose of the with statement when handling files in Python is to simplify file management by automatically handling the opening and closing of the file, even if an error occurs during the file operation.\n",
        "\n",
        "  Key benefits of using with:\n",
        "\n",
        "Automatic cleanup – The file is closed automatically after the block is executed (no need to call file.close() manually).\n",
        "\n",
        "Error safety – If an exception occurs, the with statement ensures the file is still properly closed.\n",
        "\n",
        "Cleaner code – It avoids clutter and makes the code more readable.\n",
        "\n",
        "Example without with:\n",
        "\n",
        "file = open(\"example.txt\", \"r\")\n",
        "\n",
        "data = file.read()\n",
        "\n",
        "file.close()\n",
        "\n",
        "Example with with:\n",
        "\n",
        "with open(\"example.txt\", \"r\") as file:\n",
        "    \n",
        "data = file.read()#file is automatically closed here\n",
        "\n"
      ],
      "metadata": {
        "id": "puAGrNPxNoSQ"
      }
    },
    {
      "cell_type": "markdown",
      "source": [
        "9. What is the difference between multithreading and multiprocessing ?\n",
        "\n",
        "   ->The main difference between multithreading and multiprocessing in Python lies in how they execute tasks concurrently and how system resources are used:\n",
        "\n",
        "   Multithreading\n",
        "\n",
        "Definition: Running multiple threads (lightweight processes) within a single process.\n",
        "\n",
        "Memory: All threads share the same memory space.\n",
        "\n",
        "Speed: Good for I/O-bound tasks (e.g., reading files, making API calls).\n",
        "\n",
        "GIL Impact: In Python, due to the Global Interpreter Lock (GIL), only one thread runs Python bytecode at a time. So true parallel execution of CPU-bound tasks is limited.\n",
        "\n",
        "Overhead: Less overhead (faster to start, lower memory use).\n",
        "\n",
        "Example use cases:\n",
        "\n",
        "Downloading multiple files\n",
        "\n",
        "Handling multiple client requests on a server\n",
        "\n",
        "Reading and writing files simultaneously\n",
        "\n",
        "import threading\n",
        "\n",
        "def task():\n",
        "\n",
        "print(\"Task running...\")\n",
        "\n",
        "t1 = threading.Thread(target=task)\n",
        "\n",
        "t2 = threading.Thread(target=task)\n",
        "\n",
        "t1.start()\n",
        "\n",
        "t2.start()\n",
        "\n",
        "Multiprocessing\n",
        "\n",
        "Definition: Running multiple processes, each with its own Python interpreter and memory space.\n",
        "\n",
        "Memory: Each process has separate memory.\n",
        "\n",
        "Speed: Ideal for CPU-bound tasks (e.g., heavy calculations, data processing).\n",
        "\n",
        "GIL Impact: Not affected by the GIL — processes run truly in parallel on multiple CPU cores.\n",
        "\n",
        "Overhead: More overhead (higher memory use, slower to start than threads).\n",
        "\n",
        "Example use cases:\n",
        "\n",
        "Image or video processing\n",
        "\n",
        "Data analysis\n",
        "\n",
        "Machine learning tasks\n",
        "\n",
        "import multiprocessing\n",
        "\n",
        "def task():\n",
        "\n",
        "print(\"Task running...\")\n",
        "\n",
        "p1 = multiprocessing.Process(target=task)\n",
        "\n",
        "p2 = multiprocessing.Process(target=task)\n",
        "\n",
        "p1.start()\n",
        "\n",
        "p2.start()\n",
        "\n"
      ],
      "metadata": {
        "id": "Ta6kcd93KfJa"
      }
    },
    {
      "cell_type": "markdown",
      "source": [
        "10. What are the advantages of using logging in a program?\n",
        "    \n",
        "    ->Better Debugging and Error Tracking\n",
        "\n",
        "Logging records detailed information about what’s happening in the program.\n",
        "\n",
        "It helps track when, where, and why something went wrong.\n",
        "\n",
        "Example: recording timestamps, function names, and error levels.\n",
        "\n",
        "* Different Severity Levels\n",
        "\n",
        "You can classify messages using levels like:\n",
        "\n",
        "DEBUG – detailed information for debugging\n",
        "\n",
        "INFO – general information about program flow\n",
        "\n",
        "WARNING – something unexpected happened but the program continues\n",
        "\n",
        "ERROR – a serious problem occurred\n",
        "\n",
        "CRITICAL – very serious error, program may stop\n",
        "\n",
        "This makes it easy to filter and analyze logs.\n",
        "\n",
        "* Easier Maintenance\n",
        "\n",
        "Logs give developers a clear history of events in the program.\n",
        "\n",
        "When issues occur in production, logs help find the root cause without rerunning the program.\n",
        "\n",
        "* Flexible Output Options\n",
        "\n",
        "Unlike print(), logs can be:\n",
        "\n",
        "Saved to files\n",
        "\n",
        "Sent to consoles\n",
        "\n",
        "Stored in databases\n",
        "\n",
        "Sent to external monitoring systems\n",
        "\n",
        "This helps keep a permanent record of what happened."
      ],
      "metadata": {
        "id": "cGJwoX6nNTDv"
      }
    },
    {
      "cell_type": "markdown",
      "source": [
        "11. What is memory management in Python?\n",
        "    \n",
        "    ->Memory management in Python refers to how the interpreter allocates, uses, and frees memory while a program runs.\n",
        "It ensures that memory is used efficiently and released when no longer needed, so the program runs smoothly without crashes or leaks.\n",
        "\n",
        "* Automatic Memory Management\n",
        "\n",
        "Python uses automatic memory management, meaning you don’t need to manually allocate or free memory like in some other languages (e.g., C or C++).\n",
        "The interpreter takes care of:\n",
        "\n",
        "Allocating memory for objects\n",
        "\n",
        "Reusing memory when objects are no longer needed\n",
        "\n",
        "Preventing memory leaks\n",
        "\n",
        "* Private Heap Space\n",
        "\n",
        "All Python objects and data structures are stored in a private heap.\n",
        "\n",
        "This memory is managed internally by the Python memory manager.\n",
        "\n",
        "Programmers cannot directly access this heap; they interact with it through Python objects.\n",
        "\n",
        "* Garbage Collection\n",
        "\n",
        "Python uses automatic garbage collection to free up memory used by objects that are no longer in use.\n",
        "\n",
        "It mainly works through reference counting:\n",
        "\n",
        "Each object keeps track of how many references point to it.\n",
        "\n",
        "When the reference count reaches 0, the memory is released.\n",
        "\n",
        "For circular references (when objects reference each other), Python uses a cyclic garbage collector to clean them up.\n",
        "\n",
        "* Dynamic Typing and Memory Allocation\n",
        "\n",
        "Memory is allocated dynamically at runtime.\n",
        "\n",
        "When you create variables, lists, dictionaries, etc., Python automatically reserves memory as needed.\n",
        "\n",
        "When variables go out of scope or aren’t referenced, memory can be reclaimed.\n",
        "\n",
        "* Memory Pools and Object Reuse\n",
        "\n",
        "Python uses memory pools to improve performance and reduce fragmentation.\n",
        "\n",
        "For small objects (e.g., integers, short strings), Python often reuses memory instead of reallocating it each time.\n"
      ],
      "metadata": {
        "id": "DtWRl_Q0O4A9"
      }
    },
    {
      "cell_type": "markdown",
      "source": [
        "12. What are the basic steps involved in exception handling in Python?\n",
        "    \n",
        "    ->Exception handling in Python primarily involves the use of try, except, else, and finally blocks.\n",
        "\n",
        "* try block:This block encloses the code that is susceptible to raising exceptions.\n",
        "       Python attempts to execute the statements within this block.\n",
        "       If an exception occurs during the execution of the try block, the remaining statements in the try block are skipped, and control is transferred to the appropriate except block.\n",
        "\n",
        "* except block(s):\n",
        "These blocks immediately follow the try block and are responsible for handling specific types of exceptions.\n",
        "When an exception occurs in the try block, Python searches for an except block that matches the type of the raised exception.\n",
        "If a match is found, the code within that except block is executed, allowing for specific error handling logic.\n",
        "Multiple except blocks can be used to handle different types of exceptions separately. A generic except block can also be used to catch all exceptions if no specific type is provided.\n",
        "\n",
        "* else block (optional):\n",
        "This block can be included after all except blocks.\n",
        "The code within the else block is executed only if no exception occurs within the try block.\n",
        "It is useful for code that should only run when the try block completes successfully.\n",
        "\n",
        "* finally block (optional):\n",
        "This block is executed regardless of whether an exception occurred in the try block or not.\n",
        "It is typically used for cleanup operations, such as closing files or releasing resources, ensuring these actions happen even if an error disrupts the normal flow of execution."
      ],
      "metadata": {
        "id": "WvV5RdMBPxxt"
      }
    },
    {
      "cell_type": "markdown",
      "source": [
        "13. Why is memory management important in Python ?\n",
        "\n",
        "    ->Memory management in Python refers to how the interpreter allocates, uses, and frees memory while a program runs.\n",
        "It ensures that memory is used efficiently and released when no longer needed, so the program runs smoothly without crashes or leaks.\n",
        "\n",
        "* Automatic Memory Management\n",
        "\n",
        "Python uses automatic memory management, meaning you don’t need to manually allocate or free memory like in some other languages (e.g., C or C++).\n",
        "The interpreter takes care of:\n",
        "\n",
        "Allocating memory for objects\n",
        "\n",
        "Reusing memory when objects are no longer needed\n",
        "\n",
        "Preventing memory leaks\n",
        "\n",
        "* Private Heap Space\n",
        "\n",
        "All Python objects and data structures are stored in a private heap.\n",
        "\n",
        "This memory is managed internally by the Python memory manager.\n",
        "\n",
        "Programmers cannot directly access this heap; they interact with it through Python objects.\n",
        "\n",
        "* Garbage Collection\n",
        "\n",
        "Python uses automatic garbage collection to free up memory used by objects that are no longer in use.\n",
        "\n",
        "It mainly works through reference counting:\n",
        "\n",
        "Each object keeps track of how many references point to it.\n",
        "\n",
        "When the reference count reaches 0, the memory is released.\n",
        "\n",
        "For circular references (when objects reference each other), Python uses a cyclic garbage collector to clean them up.\n",
        "* Dynamic Typing and Memory Allocation\n",
        "\n",
        "Memory is allocated dynamically at runtime.\n",
        "\n",
        "When you create variables, lists, dictionaries, etc., Python automatically reserves memory as needed.\n",
        "\n",
        "When variables go out of scope or aren’t referenced, memory can be reclaimed.\n",
        "* Memory Pools and Object Reuse\n",
        "\n",
        "Python uses memory pools to improve performance and reduce fragmentation.\n",
        "\n",
        "For small objects (e.g., integers, short strings), Python often reuses memory instead of reallocating it each time."
      ],
      "metadata": {
        "id": "qPurNgGbQ3i2"
      }
    },
    {
      "cell_type": "markdown",
      "source": [
        "14. What is the role of try and except in exception handling ?\n",
        "\n",
        "-> In Python, the try and except blocks are used to handle exceptions — errors that occur during program execution.\n",
        "Their main role is to prevent the program from crashing and allow it to respond gracefully to unexpected problems.\n",
        "    \n",
        "try Block – Detecting Errors:\n",
        "The code inside the try block is executed normally.\n",
        "\n",
        "If no error occurs, the except block is skipped.\n",
        "\n",
        "If an error occurs, Python immediately jumps to the except block.\n",
        "\n",
        "Example:\n",
        "\n",
        "try:\n",
        "\n",
        "number = int(input(\"Enter a number: \"))\n",
        "\n",
        "print(\"You entered:\", number)\n",
        "\n",
        "except Block – Handling Errors:\n",
        "\n",
        "The code inside the except block runs only if an error occurs in the try block.\n",
        "\n",
        "It lets you control the response instead of letting the program crash.\n",
        "\n",
        "You can catch specific exceptions (like ValueError) or catch all exceptions.\n",
        "\n",
        "try:\n",
        "\n",
        "number = int(input(\"Enter a number: \"))\n",
        "\n",
        "print(\"You entered:\", number)\n",
        "\n",
        "except ValueError:\n",
        "\n",
        "print(\"Oops! That was not a valid number.\")\n",
        "\n",
        "Why try and except are Important:\n",
        "\n",
        "revents program crashes – Handles unexpected errors gracefully.\n",
        "\n",
        "Improves user experience – Gives meaningful error messages.\n",
        "\n",
        "Allows recovery – The program can continue running after an error.\n",
        "\n",
        "Enables debugging – Makes it easier to identify where and why errors occur.\n",
        "\n"
      ],
      "metadata": {
        "id": "APVZAb0xuJaA"
      }
    },
    {
      "cell_type": "markdown",
      "source": [
        "15. How does Python's garbage collection system work ?\n",
        "\n",
        "    ->Python's garbage collection system primarily uses a combination of reference counting and a cyclic garbage collector to manage memory automatically.\n",
        "\n",
        "    Reference Counting:\n",
        "* Every object in Python maintains a reference count, which tracks the number of references (variables, container elements, etc.) pointing to it.\n",
        "* When an object's reference count becomes zero, it means there are no longer any references to that object, and it is immediately deallocated, freeing up its memory.\n",
        "* This mechanism is efficient for most objects and handles the majority of memory cleanup.\n",
        "Example:\n",
        "\n",
        "        a = [1, 2, 3] # Reference count of list object increases\n",
        "        b = a         # Reference count increases again\n",
        "        del a         # Reference count decreases\n",
        "        # If 'b' also goes out of scope or is deleted, the list object's\n",
        "        # reference count will reach zero, and it will be deallocated.\n",
        "Cyclic Garbage Collector:\n",
        "* Reference counting alone cannot handle circular references, where objects refer to each other in a loop, preventing their reference counts from ever reaching zero even if they are no longer accessible from the main program.\n",
        "* The cyclic garbage collector is designed to detect and collect these unreachable circular references.\n",
        "* It operates periodically, identifying groups of objects that form cycles and are no longer referenced by any external object.\n",
        "* These uncollectable objects are then deallocated.\n",
        "* Python's cyclic garbage collector uses a generational approach, categorizing objects into \"generations\" (0, 1, 2) based on their age. Objects that survive collections in younger generations are promoted to older generations, as older objects are less likely to be garbage. This optimizes collection frequency and performance."
      ],
      "metadata": {
        "id": "z1TKajWcxQP3"
      }
    },
    {
      "cell_type": "markdown",
      "source": [
        "16. What is the purpose of the else block in exception handling ?\n",
        "    \n",
        "    ->The else block in exception handling, particularly in languages like Python, serves to execute code only if no exception occurs within the corresponding try block.\n",
        "\n",
        "    Here's a breakdown of its purpose:\n",
        "* Code Execution on Success: The primary purpose is to hold code that should run when the try block completes without raising any exceptions. This allows for clear separation of successful execution logic from error-handling logic.\n",
        "* Preventing Accidental Exception Catching: By placing success-dependent code in the else block instead of directly within the try block, you prevent the except blocks from accidentally catching exceptions raised by that success-dependent code itself. This ensures that the except blocks only handle exceptions directly related to the operations within the try block.\n",
        "* Improved Code Readability: It enhances the readability and structure of your code by clearly indicating which actions are performed only when the try block's operations are successful.\n",
        "\n",
        " try:\n",
        "    \n",
        "Code that might raise an exception\n",
        "\n",
        "result = 10 / 2\n",
        "\n",
        "except ZeroDivisionError:\n",
        "\n",
        "Code to handle a specific exception\n",
        "\n",
        "print(\"Cannot divide by zero!\")\n",
        "except Exception as e:\n",
        "\n",
        "Code to handle other general exceptions\n",
        "    \n",
        "print(f\"An error occurred: {e}\")\n",
        "\n",
        "else:\n",
        "\n",
        "Code to execute ONLY if no exception occurred in the try block\n",
        "    \n",
        "print(f\"Division successful. Result: {result}\")\n",
        "\n",
        "finally:\n",
        "\n",
        " Code that always executes, regardless of exceptions\n",
        "\n",
        "print(\"Execution complete.\")"
      ],
      "metadata": {
        "id": "Ks_iAHdtyuk4"
      }
    },
    {
      "cell_type": "markdown",
      "source": [
        "17. What are the common logging levels in Python ?\n",
        "\n",
        "    ->Python's logging module defines several standard logging levels to categorize the severity of events. These levels, in increasing order of severity, are:\n",
        "DEBUG (10): Provides detailed information, typically of interest only when diagnosing problems.\n",
        "\n",
        "INFO (20): Confirms that things are working as expected, providing general information about the program's execution.\n",
        "\n",
        "WARNING (30): Indicates that something unexpected happened or that a potential problem might occur in the near future, but the software is still working as expected.\n",
        "\n",
        "ERROR (40): Signifies a more serious problem where the software has not been able to perform some function due to an issue.\n",
        "\n",
        "CRITICAL (50): Represents a severe error indicating that the program itself may be unable to continue running.\n",
        "\n",
        "These numeric values are associated with the levels, allowing for comparison and filtering of log messages based on their severity. For instance, if the logging level is set to WARNING, only messages of WARNING, ERROR, and CRITICAL levels will be processed and displayed. Messages with DEBUG or INFO levels will be ignored.\n"
      ],
      "metadata": {
        "id": "yA_2qfKK19k9"
      }
    },
    {
      "cell_type": "markdown",
      "source": [
        "18. What is the difference between os.fork() and multiprocessing in Python?\n",
        "\n",
        "   ->The os.fork() function and the multiprocessing module both enable process creation in Python, but they operate at different levels of abstraction and offer distinct features:\n",
        "\n",
        "   1. Level of Abstraction:\n",
        "* os.fork(): This is a low-level function that directly interacts with the operating system's fork() system call (available only on Unix-like systems). It creates a child process that is an exact copy of the parent process at the time of the call, including its memory space, open file descriptors, and environment variables. The child process then continues execution from the point of the fork() call.\n",
        "* multiprocessing module: This is a higher-level module that provides a more convenient and portable way to manage multiple processes. It abstracts away the complexities of os.fork() and offers tools like Process objects, Pool objects, queues, and pipes for inter-process communication and synchronization. It can use different start methods for new processes (e.g., fork, spawn, forkserver), making it more flexible and robust.\n",
        "\n",
        "2. Portability:\n",
        "* os.fork(): Strictly limited to Unix-like operating systems (Linux, macOS, etc.). It does not work on Windows.\n",
        "* multiprocessing module: Designed to be cross-platform, offering similar functionality on both Unix-like systems and Windows, although the underlying implementation details may differ (e.g., spawn is the default on Windows).\n",
        "3. Inter-Process Communication (IPC):\n",
        "* os.fork(): While technically possible to share data after forking (e.g., by modifying shared memory or using file-based communication), it's more complex and error-prone to manage directly.\n",
        "* multiprocessing module: Provides built-in mechanisms for IPC, such as Queue for message passing, Pipe for two-way communication, and Value/Array for shared memory, simplifying data exchange between processes.\n",
        "4. Ease of Use and Features:\n",
        "* os.fork(): Offers fine-grained control over process creation but requires manual handling of process management and IPC.\n",
        "* multiprocessing module: Provides a more user-friendly API for creating and managing processes, including features like process pools for efficient task distribution and synchronization primitives for coordinating processes."
      ],
      "metadata": {
        "id": "3Gsq5DxH3A8c"
      }
    },
    {
      "cell_type": "markdown",
      "source": [
        "19. What is the importance of closing a file in Python ?\n",
        "\n",
        "    ->Closing a file in Python, using methods like file.close() or the with statement, is crucial for several reasons:\n",
        "\n",
        "* Data Integrity and Persistence: When writing to a file, data is often buffered in memory before being written to the disk. Closing the file ensures that all buffered data is \"flushed\" or written completely to the file, preventing data loss in case of program termination or system crashes.\n",
        "* Resource Management: Files are a limited system resource managed by the operating system. Each open file consumes memory and other system resources. Failing to close files can lead to resource leaks and potentially exceed the operating system's limit for open files, causing errors and program instability.\n",
        "* Preventing Data Corruption: Leaving files open unnecessarily can increase the risk of data corruption, especially if multiple processes or programs attempt to access or modify the same file simultaneously. Closing the file releases the lock on it, allowing other processes to access it safely.\n",
        "* Ensuring Availability for Other Programs: When a file is open, it might be locked by your program, preventing other applications or even other parts of your own program from accessing or modifying it. Closing the file releases this lock, making it available for other operations.\n",
        "* Good Programming Practice: Explicitly closing files demonstrates responsible resource management and contributes to cleaner, more robust code. It reduces the likelihood of unexpected behavior and makes debugging easier.\n",
        "\n",
        "Using the with statement for automatic file closing:\n",
        "The most recommended way to handle files in Python is using the with statement. This ensures that the file is automatically closed, even if errors occur during file operations, as shown in the example below:\n",
        "\n",
        "with open(\"my_file.txt\", \"w\") as f:\n",
        "    \n",
        "f.write(\"Hello, world!\") #The file 'f' is automatically closed here"
      ],
      "metadata": {
        "id": "YtyXKDjf4ZSA"
      }
    },
    {
      "cell_type": "markdown",
      "source": [
        "20. What is the difference between file.read() and file.readline() in Python ?\n",
        "\n",
        "    ->In Python, file.read() and file.readline() are both methods used to read data from a file object, but they differ in the amount of data they retrieve:\n",
        "\n",
        "file.read(size=-1):\n",
        "* Reads the entire content of the file and returns it as a single string.\n",
        "* If an optional size argument is provided, it reads at most size bytes (or characters in text mode) from the file and returns them as a string.\n",
        "* If size is omitted or negative, the entire file content is read.\n",
        "* This method is suitable for smaller files where loading the entire content into memory is not an issue.\n",
        "\n",
        "file.readline(size=-1):\n",
        "* Reads a single line from the file and returns it as a string.\n",
        "* A \"line\" is typically defined by the presence of a newline character (\\n).\n",
        "* The returned string includes the newline character at the end, if present.\n",
        "* If an optional size argument is provided, it reads at most size bytes (or characters in text mode) from the line. If a newline is encountered within size bytes, it stops there.\n",
        "* If the end of the file is reached and no more lines are available, it returns an empty string.\n",
        "* This method is more memory-efficient for large files as it processes data line by line, avoiding the need to load the entire file into memory at once.\n",
        "\n",
        "Assuming a file named \"example.txt\" with content:\n",
        "\n",
        " Line 1\n",
        "\n",
        " Line 2\n",
        "\n",
        " Line 3\n",
        "\n",
        "\n",
        "Using file.read()\n",
        "\n",
        "with open(\"example.txt\", \"r\") as file:\n",
        "    \n",
        "content = file.read()\n",
        "\n",
        "print(\"Content using read():\")\n",
        "\n",
        "print(content)\n",
        "\n",
        " Using file.readline()\n",
        "\n",
        "with open(\"example.txt\", \"r\") as file:\n",
        "\n",
        "line1 = file.readline()\n",
        "\n",
        "line2 = file.readline()\n",
        "\n",
        "print(\"\\nContent using readline():\")\n",
        "\n",
        "print(f\"First line: {line1.strip()}\") # .strip() removes the newline\n",
        "    \n",
        "print(f\"Second line: {line2.strip()}\")\n",
        "\n"
      ],
      "metadata": {
        "id": "zfKk8F9F6Bbe"
      }
    },
    {
      "cell_type": "markdown",
      "source": [
        "21. What is the logging module in Python used for ?\n",
        "\n",
        "    ->The logging module in Python is a built-in, standard library module that provides a flexible and powerful framework for emitting log messages from Python programs. It is used to\n",
        "\n",
        "* Track Events and Program Flow: Record information about the execution of your application, including its start, key operations, and successful or unsuccessful actions. This helps in understanding how the program behaves.\n",
        "* Debug and Diagnose Issues: Instead of relying solely on print() statements for debugging, the logging module allows you to capture detailed information, including variable states and exception traceback, which can be crucial in identifying and resolving errors.\n",
        "* Monitor Application Health: In production environments, logs can be used to monitor the health and performance of an application, providing insights into potential problems before they become critical.\n",
        "* Analyze Usage Patterns: By logging specific user interactions or system events, you can gain insights into how your application is being used.\n",
        "**Key Features and Concepts:**\n",
        "* Log Levels: The module supports various log levels (e.g., DEBUG, INFO, WARNING, ERROR, CRITICAL), allowing you to categorize messages by their severity and control which messages are processed and displayed.\n",
        "Loggers: These are the entry points for logging messages. You can create named loggers to manage different parts of your application independently.\n",
        "* Handlers: Handlers determine where log messages are sent (e.g., console, file, network socket, email). You can attach multiple handlers to a logger.\n",
        "* Formatters: Formatters define the layout and content of log messages, allowing you to customize how the information is presented (e.g., including timestamps, log levels, and source file information).\n",
        "\n",
        "Why prefer logging over print() for debugging and monitoring:\n",
        "* Structured Output: logging provides a structured way to capture information, making it easier to parse and analyze logs.\n",
        "* Control over Output: You can easily configure where logs go and which levels of messages are displayed without modifying your code.\n",
        "* Reduced Maintenance: Unlike print() statements that often need to be removed or commented out before deployment, logging configurations can be dynamically adjusted.\n",
        "* Severity Levels: The ability to assign severity levels to messages allows you to prioritize and filter information effectively."
      ],
      "metadata": {
        "id": "8K3ghFI39F2K"
      }
    },
    {
      "cell_type": "markdown",
      "source": [
        "22. What is the os module in Python used for in file handling ?\n",
        "\n",
        "    ->The os module in Python provides a portable way to interact with the operating system, including a wide range of functionalities for file and directory handling. It acts as an interface between your Python program and the underlying file system.\n",
        "Here's how the os module is used in file handling:\n",
        "\n",
        " Directory Management:\n",
        "* os.mkdir(path): Creates a new directory at the specified path.\n",
        "* os.makedirs(path): Creates directories recursively, including any necessary parent directories.\n",
        "* os.rmdir(path): Removes an empty directory.\n",
        "* os.removedirs(path): Removes directories recursively, removing parent directories if they become empty.\n",
        "* os.chdir(path): Changes the current working directory to path.\n",
        "* os.getcwd(): Returns the current working directory.\n",
        "* os.listdir(path): Returns a list of all files and directories within the specified path.\n",
        "2. File Operations:\n",
        "* os.rename(src, dst): Renames a file or directory from src to dst.\n",
        "* os.remove(path): Deletes a file.\n",
        "* os.stat(path): Returns status information about a file or directory, such as size, modification time, and permissions.\n",
        "* os.chmod(path, mode): Changes the permissions of a file or directory.\n",
        "* os.utime(path, times): Sets the access and modification times of a file.\n",
        "3. Path Manipulation (often used with os.path submodule):\n",
        "* os.path.join(path1, path2, ...): Joins path components intelligently, handling platform-specific separators.\n",
        "* os.path.exists(path): Checks if a path (file or directory) exists.\n",
        "* os.path.isfile(path): Checks if a path refers to a file.\n",
        "* os.path.isdir(path): Checks if a path refers to a directory.\n",
        "* os.path.split(path): Splits a path into a head (directory) and a tail (filename).\n",
        "* os.path.basename(path): Returns the base name (filename) of a path.\n",
        "* os.path.dirname(path): Returns the directory name of a path"
      ],
      "metadata": {
        "id": "ZaYfmGQq-98R"
      }
    },
    {
      "cell_type": "markdown",
      "source": [
        "23. What are the challenges associated with memory management in Python ?\n",
        "\n",
        "    ->Memory management in Python, while largely automated, still presents several challenges for developers aiming for optimal application performance and resource utilization.\n",
        "\n",
        "Challenges in Python Memory Management:\n",
        "* Memory Leaks: Despite automatic garbage collection, memory leaks can occur, especially with cyclic references where objects reference each other in a way that prevents their reference counts from dropping to zero. This can lead to the garbage collector failing to deallocate unused objects.\n",
        "* Memory Bloat and High Usage: Inefficient code or poor data structure choices can lead to excessive memory consumption, particularly in long-running applications or those processing large datasets. This can manifest as \"memory bloat,\" where an application's memory footprint grows significantly over time.\n",
        "* Performance Overhead of Garbage Collection: While essential, the garbage collection process itself can introduce performance overhead as it pauses execution to identify and reclaim unused memory. Frequent or extensive garbage collection cycles can impact application responsiveness.\n",
        "* Global Interpreter Lock (GIL) and Concurrency: In CPython, the GIL ensures that only one thread can execute Python bytecode at a time, even in multi-threaded applications. While simplifying memory management by preventing race conditions, it can limit true parallel execution and impact performance in CPU-bound tasks.\n",
        "* Inefficient Data Structure Choices: Selecting inappropriate data structures for specific tasks can significantly impact memory usage. For example, using lists for operations better suited for sets or dictionaries can lead to increased memory consumption and slower performance.\n",
        "* Managing External Resources: Python's automatic memory management primarily handles Python objects. However, when dealing with external resources like file handles, network sockets, or database connections, explicit management (e.g., using with statements or manual closing) is crucial to prevent resource leaks.\n",
        "* Impact of Global Variables: Global variables persist throughout the program's execution, and if they hold large or complex objects, they can consume memory for the entire duration, potentially leading to memory issues if not carefully managed.\n",
        "* Limited Manual Control: Compared to languages like C or C++, Python offers less direct control over memory allocation and deallocation. While this simplifies development, it can be a challenge for fine-grained memory optimization in performance-critical scenarios."
      ],
      "metadata": {
        "id": "TRBh0NcqAarm"
      }
    },
    {
      "cell_type": "markdown",
      "source": [
        "24.  How do you raise an exception manually in Python ?\n",
        "\n",
        "     ->In Python, you manually raise an exception using the raise keyword. This allows you to signal an error condition at a specific point in your code, stopping the normal execution flow and potentially providing a custom error message.\n",
        "\n",
        "     Syntax:\n",
        "     \n",
        "    raise <ExceptionType>\n",
        "\n",
        "Examples:\n",
        "Raising a built-in exception without a custom message:\n",
        "\n",
        "    if x < 0:\n",
        "        raise ValueError\n",
        "\n",
        "Raising a built-in exception with a custom message:\n",
        "\n",
        "    if age < 0:\n",
        "        raise ValueError(\"Age cannot be negative.\")\n",
        "\n",
        "Raising a custom exception.\n",
        "First, define your custom exception by inheriting from the built-in Exception class:\n",
        "\n",
        "    class LowBalanceError(Exception):\n",
        "        pass\n",
        "\n",
        "\n",
        "  Then, raise it like any other exception:\n",
        "\n",
        "      balance = 100\n",
        "    if balance < 200:\n",
        "        raise LowBalanceError(\"Balance is below the required minimum.\")\n",
        "\n",
        "    \n",
        "\n",
        "  "
      ],
      "metadata": {
        "id": "oPKpn0LwBwrj"
      }
    },
    {
      "cell_type": "markdown",
      "source": [
        "25.  Why is it important to use multithreading in certain applications?\n",
        "\n",
        "     ->Multithreading is important for applications that need to be responsive and efficient, especially when performing multiple tasks at once or dealing with I/O-bound operations. It improves performance by allowing concurrent execution, enhances responsiveness by preventing the UI from freezing during long tasks, and improves scalability by utilizing multiple processors. Applications like web servers, browsers, and word processors benefit from multithreading by handling multiple operations or user requests simultaneously.\n",
        "\n",
        "Key reasons for using multithreading\n",
        "* Improved performance: By running tasks concurrently, multithreading can make applications faster. On multi-processor systems, tasks can be executed in parallel, significantly improving performance.\n",
        "* Enhanced responsiveness: For user-facing applications, multithreading prevents the main thread from becoming unresponsive. For example, a background task like saving a file can occur in a separate thread, allowing the user to continue interacting with the application without lag.\n",
        "* Better resource utilization: Multithreading allows a single process to use CPU time more efficiently by using threads to handle tasks that would otherwise cause the entire application to pause, such as waiting for network requests or file I/O.\n",
        "* Scalability: Multithreading allows applications to scale more easily by adding more processors, which can be crucial for server-side applications that need to handle a growing number of users.\n",
        "* Efficient resource sharing: Threads within the same process share memory space, which makes it easier for them to share data and resources compared to using separate processes, which require more complex inter-process communication."
      ],
      "metadata": {
        "id": "20Ld8myCEzl2"
      }
    },
    {
      "cell_type": "markdown",
      "source": [
        "**Practical Questions**"
      ],
      "metadata": {
        "id": "8nGr-OQtGUz6"
      }
    },
    {
      "cell_type": "markdown",
      "source": [
        "1. How can you open a file for writing in Python and write a string to it ?"
      ],
      "metadata": {
        "id": "xwsHPDOqGcjz"
      }
    },
    {
      "cell_type": "code",
      "source": [
        "from google.colab import files\n",
        "\n",
        "# Upload file\n",
        "uploaded = files.upload()\n",
        "# Open the file in write mode\n",
        "with open(\"example.txt\", \"w\") as file:\n",
        "    # Write a string to the file\n",
        "    file.write(\"Hello, this is a test message.\")\n",
        "\n",
        "\n",
        "\n",
        "with open(\"example.txt\", \"a\") as file:\n",
        "    file.write(\"\\nThis line is added later.\")\n",
        "\n",
        "\n",
        "\n"
      ],
      "metadata": {
        "id": "T0grSrcgGsgA",
        "colab": {
          "base_uri": "https://localhost:8080/",
          "height": 73
        },
        "outputId": "7acf0811-8ea2-4d24-e004-02944104cd6d"
      },
      "execution_count": 7,
      "outputs": [
        {
          "output_type": "display_data",
          "data": {
            "text/plain": [
              "<IPython.core.display.HTML object>"
            ],
            "text/html": [
              "\n",
              "     <input type=\"file\" id=\"files-7b50f7a0-e0a9-4d00-a036-8cb99bec91c5\" name=\"files[]\" multiple disabled\n",
              "        style=\"border:none\" />\n",
              "     <output id=\"result-7b50f7a0-e0a9-4d00-a036-8cb99bec91c5\">\n",
              "      Upload widget is only available when the cell has been executed in the\n",
              "      current browser session. Please rerun this cell to enable.\n",
              "      </output>\n",
              "      <script>// Copyright 2017 Google LLC\n",
              "//\n",
              "// Licensed under the Apache License, Version 2.0 (the \"License\");\n",
              "// you may not use this file except in compliance with the License.\n",
              "// You may obtain a copy of the License at\n",
              "//\n",
              "//      http://www.apache.org/licenses/LICENSE-2.0\n",
              "//\n",
              "// Unless required by applicable law or agreed to in writing, software\n",
              "// distributed under the License is distributed on an \"AS IS\" BASIS,\n",
              "// WITHOUT WARRANTIES OR CONDITIONS OF ANY KIND, either express or implied.\n",
              "// See the License for the specific language governing permissions and\n",
              "// limitations under the License.\n",
              "\n",
              "/**\n",
              " * @fileoverview Helpers for google.colab Python module.\n",
              " */\n",
              "(function(scope) {\n",
              "function span(text, styleAttributes = {}) {\n",
              "  const element = document.createElement('span');\n",
              "  element.textContent = text;\n",
              "  for (const key of Object.keys(styleAttributes)) {\n",
              "    element.style[key] = styleAttributes[key];\n",
              "  }\n",
              "  return element;\n",
              "}\n",
              "\n",
              "// Max number of bytes which will be uploaded at a time.\n",
              "const MAX_PAYLOAD_SIZE = 100 * 1024;\n",
              "\n",
              "function _uploadFiles(inputId, outputId) {\n",
              "  const steps = uploadFilesStep(inputId, outputId);\n",
              "  const outputElement = document.getElementById(outputId);\n",
              "  // Cache steps on the outputElement to make it available for the next call\n",
              "  // to uploadFilesContinue from Python.\n",
              "  outputElement.steps = steps;\n",
              "\n",
              "  return _uploadFilesContinue(outputId);\n",
              "}\n",
              "\n",
              "// This is roughly an async generator (not supported in the browser yet),\n",
              "// where there are multiple asynchronous steps and the Python side is going\n",
              "// to poll for completion of each step.\n",
              "// This uses a Promise to block the python side on completion of each step,\n",
              "// then passes the result of the previous step as the input to the next step.\n",
              "function _uploadFilesContinue(outputId) {\n",
              "  const outputElement = document.getElementById(outputId);\n",
              "  const steps = outputElement.steps;\n",
              "\n",
              "  const next = steps.next(outputElement.lastPromiseValue);\n",
              "  return Promise.resolve(next.value.promise).then((value) => {\n",
              "    // Cache the last promise value to make it available to the next\n",
              "    // step of the generator.\n",
              "    outputElement.lastPromiseValue = value;\n",
              "    return next.value.response;\n",
              "  });\n",
              "}\n",
              "\n",
              "/**\n",
              " * Generator function which is called between each async step of the upload\n",
              " * process.\n",
              " * @param {string} inputId Element ID of the input file picker element.\n",
              " * @param {string} outputId Element ID of the output display.\n",
              " * @return {!Iterable<!Object>} Iterable of next steps.\n",
              " */\n",
              "function* uploadFilesStep(inputId, outputId) {\n",
              "  const inputElement = document.getElementById(inputId);\n",
              "  inputElement.disabled = false;\n",
              "\n",
              "  const outputElement = document.getElementById(outputId);\n",
              "  outputElement.innerHTML = '';\n",
              "\n",
              "  const pickedPromise = new Promise((resolve) => {\n",
              "    inputElement.addEventListener('change', (e) => {\n",
              "      resolve(e.target.files);\n",
              "    });\n",
              "  });\n",
              "\n",
              "  const cancel = document.createElement('button');\n",
              "  inputElement.parentElement.appendChild(cancel);\n",
              "  cancel.textContent = 'Cancel upload';\n",
              "  const cancelPromise = new Promise((resolve) => {\n",
              "    cancel.onclick = () => {\n",
              "      resolve(null);\n",
              "    };\n",
              "  });\n",
              "\n",
              "  // Wait for the user to pick the files.\n",
              "  const files = yield {\n",
              "    promise: Promise.race([pickedPromise, cancelPromise]),\n",
              "    response: {\n",
              "      action: 'starting',\n",
              "    }\n",
              "  };\n",
              "\n",
              "  cancel.remove();\n",
              "\n",
              "  // Disable the input element since further picks are not allowed.\n",
              "  inputElement.disabled = true;\n",
              "\n",
              "  if (!files) {\n",
              "    return {\n",
              "      response: {\n",
              "        action: 'complete',\n",
              "      }\n",
              "    };\n",
              "  }\n",
              "\n",
              "  for (const file of files) {\n",
              "    const li = document.createElement('li');\n",
              "    li.append(span(file.name, {fontWeight: 'bold'}));\n",
              "    li.append(span(\n",
              "        `(${file.type || 'n/a'}) - ${file.size} bytes, ` +\n",
              "        `last modified: ${\n",
              "            file.lastModifiedDate ? file.lastModifiedDate.toLocaleDateString() :\n",
              "                                    'n/a'} - `));\n",
              "    const percent = span('0% done');\n",
              "    li.appendChild(percent);\n",
              "\n",
              "    outputElement.appendChild(li);\n",
              "\n",
              "    const fileDataPromise = new Promise((resolve) => {\n",
              "      const reader = new FileReader();\n",
              "      reader.onload = (e) => {\n",
              "        resolve(e.target.result);\n",
              "      };\n",
              "      reader.readAsArrayBuffer(file);\n",
              "    });\n",
              "    // Wait for the data to be ready.\n",
              "    let fileData = yield {\n",
              "      promise: fileDataPromise,\n",
              "      response: {\n",
              "        action: 'continue',\n",
              "      }\n",
              "    };\n",
              "\n",
              "    // Use a chunked sending to avoid message size limits. See b/62115660.\n",
              "    let position = 0;\n",
              "    do {\n",
              "      const length = Math.min(fileData.byteLength - position, MAX_PAYLOAD_SIZE);\n",
              "      const chunk = new Uint8Array(fileData, position, length);\n",
              "      position += length;\n",
              "\n",
              "      const base64 = btoa(String.fromCharCode.apply(null, chunk));\n",
              "      yield {\n",
              "        response: {\n",
              "          action: 'append',\n",
              "          file: file.name,\n",
              "          data: base64,\n",
              "        },\n",
              "      };\n",
              "\n",
              "      let percentDone = fileData.byteLength === 0 ?\n",
              "          100 :\n",
              "          Math.round((position / fileData.byteLength) * 100);\n",
              "      percent.textContent = `${percentDone}% done`;\n",
              "\n",
              "    } while (position < fileData.byteLength);\n",
              "  }\n",
              "\n",
              "  // All done.\n",
              "  yield {\n",
              "    response: {\n",
              "      action: 'complete',\n",
              "    }\n",
              "  };\n",
              "}\n",
              "\n",
              "scope.google = scope.google || {};\n",
              "scope.google.colab = scope.google.colab || {};\n",
              "scope.google.colab._files = {\n",
              "  _uploadFiles,\n",
              "  _uploadFilesContinue,\n",
              "};\n",
              "})(self);\n",
              "</script> "
            ]
          },
          "metadata": {}
        },
        {
          "output_type": "stream",
          "name": "stdout",
          "text": [
            "Saving example.txt.txt to example.txt (1).txt\n"
          ]
        }
      ]
    },
    {
      "cell_type": "markdown",
      "source": [
        "2. Write a Python program to read the contents of a file and print each line ?\n"
      ],
      "metadata": {
        "id": "4V2nupSKIYLC"
      }
    },
    {
      "cell_type": "code",
      "source": [
        "# Open the file in read mode\n",
        "with open(\"example.txt\", \"r\") as file:\n",
        "    # Loop through each line in the file\n",
        "    for line in file:\n",
        "        # Print the line (strip removes extra newlines)\n",
        "        print(line.strip())\n"
      ],
      "metadata": {
        "colab": {
          "base_uri": "https://localhost:8080/"
        },
        "id": "mKAa34SSIiBU",
        "outputId": "7498680b-48ee-4e5d-b30e-825dd3ef70ea"
      },
      "execution_count": 8,
      "outputs": [
        {
          "output_type": "stream",
          "name": "stdout",
          "text": [
            "Hello, this is a test message.\n",
            "This line is added later.\n"
          ]
        }
      ]
    },
    {
      "cell_type": "markdown",
      "source": [
        "3. How would you handle a case where the file doesn't exist while trying to open it for reading ?"
      ],
      "metadata": {
        "id": "R3i2wtpLU1RD"
      }
    },
    {
      "cell_type": "code",
      "source": [
        "from google.colab import files\n",
        "\n",
        "# Upload file\n",
        "uploaded = files.upload()\n",
        "\n",
        "filename = \"sample.txt\"\n",
        "\n",
        "try:\n",
        "    with open(filename, \"r\") as file:\n",
        "        for line in file:\n",
        "            print(line.strip())\n",
        "except FileNotFoundError:\n",
        "    print(f\"Error: The file '{filename}' was not found.\")\n"
      ],
      "metadata": {
        "colab": {
          "base_uri": "https://localhost:8080/",
          "height": 73
        },
        "id": "JECVCIJNVIMS",
        "outputId": "d9218564-b5ba-49c8-9ea3-366c9c1258ec"
      },
      "execution_count": 23,
      "outputs": [
        {
          "output_type": "display_data",
          "data": {
            "text/plain": [
              "<IPython.core.display.HTML object>"
            ],
            "text/html": [
              "\n",
              "     <input type=\"file\" id=\"files-8a985ced-537d-45eb-afdf-3e73c0bc525e\" name=\"files[]\" multiple disabled\n",
              "        style=\"border:none\" />\n",
              "     <output id=\"result-8a985ced-537d-45eb-afdf-3e73c0bc525e\">\n",
              "      Upload widget is only available when the cell has been executed in the\n",
              "      current browser session. Please rerun this cell to enable.\n",
              "      </output>\n",
              "      <script>// Copyright 2017 Google LLC\n",
              "//\n",
              "// Licensed under the Apache License, Version 2.0 (the \"License\");\n",
              "// you may not use this file except in compliance with the License.\n",
              "// You may obtain a copy of the License at\n",
              "//\n",
              "//      http://www.apache.org/licenses/LICENSE-2.0\n",
              "//\n",
              "// Unless required by applicable law or agreed to in writing, software\n",
              "// distributed under the License is distributed on an \"AS IS\" BASIS,\n",
              "// WITHOUT WARRANTIES OR CONDITIONS OF ANY KIND, either express or implied.\n",
              "// See the License for the specific language governing permissions and\n",
              "// limitations under the License.\n",
              "\n",
              "/**\n",
              " * @fileoverview Helpers for google.colab Python module.\n",
              " */\n",
              "(function(scope) {\n",
              "function span(text, styleAttributes = {}) {\n",
              "  const element = document.createElement('span');\n",
              "  element.textContent = text;\n",
              "  for (const key of Object.keys(styleAttributes)) {\n",
              "    element.style[key] = styleAttributes[key];\n",
              "  }\n",
              "  return element;\n",
              "}\n",
              "\n",
              "// Max number of bytes which will be uploaded at a time.\n",
              "const MAX_PAYLOAD_SIZE = 100 * 1024;\n",
              "\n",
              "function _uploadFiles(inputId, outputId) {\n",
              "  const steps = uploadFilesStep(inputId, outputId);\n",
              "  const outputElement = document.getElementById(outputId);\n",
              "  // Cache steps on the outputElement to make it available for the next call\n",
              "  // to uploadFilesContinue from Python.\n",
              "  outputElement.steps = steps;\n",
              "\n",
              "  return _uploadFilesContinue(outputId);\n",
              "}\n",
              "\n",
              "// This is roughly an async generator (not supported in the browser yet),\n",
              "// where there are multiple asynchronous steps and the Python side is going\n",
              "// to poll for completion of each step.\n",
              "// This uses a Promise to block the python side on completion of each step,\n",
              "// then passes the result of the previous step as the input to the next step.\n",
              "function _uploadFilesContinue(outputId) {\n",
              "  const outputElement = document.getElementById(outputId);\n",
              "  const steps = outputElement.steps;\n",
              "\n",
              "  const next = steps.next(outputElement.lastPromiseValue);\n",
              "  return Promise.resolve(next.value.promise).then((value) => {\n",
              "    // Cache the last promise value to make it available to the next\n",
              "    // step of the generator.\n",
              "    outputElement.lastPromiseValue = value;\n",
              "    return next.value.response;\n",
              "  });\n",
              "}\n",
              "\n",
              "/**\n",
              " * Generator function which is called between each async step of the upload\n",
              " * process.\n",
              " * @param {string} inputId Element ID of the input file picker element.\n",
              " * @param {string} outputId Element ID of the output display.\n",
              " * @return {!Iterable<!Object>} Iterable of next steps.\n",
              " */\n",
              "function* uploadFilesStep(inputId, outputId) {\n",
              "  const inputElement = document.getElementById(inputId);\n",
              "  inputElement.disabled = false;\n",
              "\n",
              "  const outputElement = document.getElementById(outputId);\n",
              "  outputElement.innerHTML = '';\n",
              "\n",
              "  const pickedPromise = new Promise((resolve) => {\n",
              "    inputElement.addEventListener('change', (e) => {\n",
              "      resolve(e.target.files);\n",
              "    });\n",
              "  });\n",
              "\n",
              "  const cancel = document.createElement('button');\n",
              "  inputElement.parentElement.appendChild(cancel);\n",
              "  cancel.textContent = 'Cancel upload';\n",
              "  const cancelPromise = new Promise((resolve) => {\n",
              "    cancel.onclick = () => {\n",
              "      resolve(null);\n",
              "    };\n",
              "  });\n",
              "\n",
              "  // Wait for the user to pick the files.\n",
              "  const files = yield {\n",
              "    promise: Promise.race([pickedPromise, cancelPromise]),\n",
              "    response: {\n",
              "      action: 'starting',\n",
              "    }\n",
              "  };\n",
              "\n",
              "  cancel.remove();\n",
              "\n",
              "  // Disable the input element since further picks are not allowed.\n",
              "  inputElement.disabled = true;\n",
              "\n",
              "  if (!files) {\n",
              "    return {\n",
              "      response: {\n",
              "        action: 'complete',\n",
              "      }\n",
              "    };\n",
              "  }\n",
              "\n",
              "  for (const file of files) {\n",
              "    const li = document.createElement('li');\n",
              "    li.append(span(file.name, {fontWeight: 'bold'}));\n",
              "    li.append(span(\n",
              "        `(${file.type || 'n/a'}) - ${file.size} bytes, ` +\n",
              "        `last modified: ${\n",
              "            file.lastModifiedDate ? file.lastModifiedDate.toLocaleDateString() :\n",
              "                                    'n/a'} - `));\n",
              "    const percent = span('0% done');\n",
              "    li.appendChild(percent);\n",
              "\n",
              "    outputElement.appendChild(li);\n",
              "\n",
              "    const fileDataPromise = new Promise((resolve) => {\n",
              "      const reader = new FileReader();\n",
              "      reader.onload = (e) => {\n",
              "        resolve(e.target.result);\n",
              "      };\n",
              "      reader.readAsArrayBuffer(file);\n",
              "    });\n",
              "    // Wait for the data to be ready.\n",
              "    let fileData = yield {\n",
              "      promise: fileDataPromise,\n",
              "      response: {\n",
              "        action: 'continue',\n",
              "      }\n",
              "    };\n",
              "\n",
              "    // Use a chunked sending to avoid message size limits. See b/62115660.\n",
              "    let position = 0;\n",
              "    do {\n",
              "      const length = Math.min(fileData.byteLength - position, MAX_PAYLOAD_SIZE);\n",
              "      const chunk = new Uint8Array(fileData, position, length);\n",
              "      position += length;\n",
              "\n",
              "      const base64 = btoa(String.fromCharCode.apply(null, chunk));\n",
              "      yield {\n",
              "        response: {\n",
              "          action: 'append',\n",
              "          file: file.name,\n",
              "          data: base64,\n",
              "        },\n",
              "      };\n",
              "\n",
              "      let percentDone = fileData.byteLength === 0 ?\n",
              "          100 :\n",
              "          Math.round((position / fileData.byteLength) * 100);\n",
              "      percent.textContent = `${percentDone}% done`;\n",
              "\n",
              "    } while (position < fileData.byteLength);\n",
              "  }\n",
              "\n",
              "  // All done.\n",
              "  yield {\n",
              "    response: {\n",
              "      action: 'complete',\n",
              "    }\n",
              "  };\n",
              "}\n",
              "\n",
              "scope.google = scope.google || {};\n",
              "scope.google.colab = scope.google.colab || {};\n",
              "scope.google.colab._files = {\n",
              "  _uploadFiles,\n",
              "  _uploadFilesContinue,\n",
              "};\n",
              "})(self);\n",
              "</script> "
            ]
          },
          "metadata": {}
        },
        {
          "output_type": "stream",
          "name": "stdout",
          "text": [
            "Saving sample.txt to sample (2).txt\n"
          ]
        }
      ]
    },
    {
      "cell_type": "markdown",
      "source": [
        "4.  Write a Python script that reads from one file and writes its content to another file ?"
      ],
      "metadata": {
        "id": "tvRaeVe5ZpCl"
      }
    },
    {
      "cell_type": "code",
      "source": [
        "from google.colab import files\n",
        "\n",
        "# Upload file\n",
        "uploaded = files.upload()\n",
        "# Define source and destination file names\n",
        "source_file = \"source.txt\"\n",
        "destination_file = \"destination.txt\"\n",
        "\n",
        "try:\n",
        "    # Open the source file in read mode\n",
        "    with open(source_file, \"r\") as src:\n",
        "        # Read all contents\n",
        "        content = src.read()\n",
        "\n",
        "    # Upload file\n",
        "    uploaded = files.upload()\n",
        "    # Open the destination file in write mode\n",
        "    with open(destination_file, \"w\") as dest:\n",
        "        # Write the content to the new file\n",
        "        dest.write(content)\n",
        "\n",
        "    print(f\"Content copied from '{source_file}' to '{destination_file}' successfully.\")\n",
        "\n",
        "except FileNotFoundError:\n",
        "    print(f\"Error: The file '{source_file}' was not found.\")\n",
        "except Exception as e:\n",
        "    print(f\"An error occurred: {e}\")\n"
      ],
      "metadata": {
        "colab": {
          "base_uri": "https://localhost:8080/",
          "height": 146
        },
        "id": "KQL5Qg_wZvcm",
        "outputId": "13a85c22-3342-4d74-c09c-aa2885a33cc5"
      },
      "execution_count": 14,
      "outputs": [
        {
          "output_type": "display_data",
          "data": {
            "text/plain": [
              "<IPython.core.display.HTML object>"
            ],
            "text/html": [
              "\n",
              "     <input type=\"file\" id=\"files-643fc566-46e8-4ac1-9086-4bd36635067c\" name=\"files[]\" multiple disabled\n",
              "        style=\"border:none\" />\n",
              "     <output id=\"result-643fc566-46e8-4ac1-9086-4bd36635067c\">\n",
              "      Upload widget is only available when the cell has been executed in the\n",
              "      current browser session. Please rerun this cell to enable.\n",
              "      </output>\n",
              "      <script>// Copyright 2017 Google LLC\n",
              "//\n",
              "// Licensed under the Apache License, Version 2.0 (the \"License\");\n",
              "// you may not use this file except in compliance with the License.\n",
              "// You may obtain a copy of the License at\n",
              "//\n",
              "//      http://www.apache.org/licenses/LICENSE-2.0\n",
              "//\n",
              "// Unless required by applicable law or agreed to in writing, software\n",
              "// distributed under the License is distributed on an \"AS IS\" BASIS,\n",
              "// WITHOUT WARRANTIES OR CONDITIONS OF ANY KIND, either express or implied.\n",
              "// See the License for the specific language governing permissions and\n",
              "// limitations under the License.\n",
              "\n",
              "/**\n",
              " * @fileoverview Helpers for google.colab Python module.\n",
              " */\n",
              "(function(scope) {\n",
              "function span(text, styleAttributes = {}) {\n",
              "  const element = document.createElement('span');\n",
              "  element.textContent = text;\n",
              "  for (const key of Object.keys(styleAttributes)) {\n",
              "    element.style[key] = styleAttributes[key];\n",
              "  }\n",
              "  return element;\n",
              "}\n",
              "\n",
              "// Max number of bytes which will be uploaded at a time.\n",
              "const MAX_PAYLOAD_SIZE = 100 * 1024;\n",
              "\n",
              "function _uploadFiles(inputId, outputId) {\n",
              "  const steps = uploadFilesStep(inputId, outputId);\n",
              "  const outputElement = document.getElementById(outputId);\n",
              "  // Cache steps on the outputElement to make it available for the next call\n",
              "  // to uploadFilesContinue from Python.\n",
              "  outputElement.steps = steps;\n",
              "\n",
              "  return _uploadFilesContinue(outputId);\n",
              "}\n",
              "\n",
              "// This is roughly an async generator (not supported in the browser yet),\n",
              "// where there are multiple asynchronous steps and the Python side is going\n",
              "// to poll for completion of each step.\n",
              "// This uses a Promise to block the python side on completion of each step,\n",
              "// then passes the result of the previous step as the input to the next step.\n",
              "function _uploadFilesContinue(outputId) {\n",
              "  const outputElement = document.getElementById(outputId);\n",
              "  const steps = outputElement.steps;\n",
              "\n",
              "  const next = steps.next(outputElement.lastPromiseValue);\n",
              "  return Promise.resolve(next.value.promise).then((value) => {\n",
              "    // Cache the last promise value to make it available to the next\n",
              "    // step of the generator.\n",
              "    outputElement.lastPromiseValue = value;\n",
              "    return next.value.response;\n",
              "  });\n",
              "}\n",
              "\n",
              "/**\n",
              " * Generator function which is called between each async step of the upload\n",
              " * process.\n",
              " * @param {string} inputId Element ID of the input file picker element.\n",
              " * @param {string} outputId Element ID of the output display.\n",
              " * @return {!Iterable<!Object>} Iterable of next steps.\n",
              " */\n",
              "function* uploadFilesStep(inputId, outputId) {\n",
              "  const inputElement = document.getElementById(inputId);\n",
              "  inputElement.disabled = false;\n",
              "\n",
              "  const outputElement = document.getElementById(outputId);\n",
              "  outputElement.innerHTML = '';\n",
              "\n",
              "  const pickedPromise = new Promise((resolve) => {\n",
              "    inputElement.addEventListener('change', (e) => {\n",
              "      resolve(e.target.files);\n",
              "    });\n",
              "  });\n",
              "\n",
              "  const cancel = document.createElement('button');\n",
              "  inputElement.parentElement.appendChild(cancel);\n",
              "  cancel.textContent = 'Cancel upload';\n",
              "  const cancelPromise = new Promise((resolve) => {\n",
              "    cancel.onclick = () => {\n",
              "      resolve(null);\n",
              "    };\n",
              "  });\n",
              "\n",
              "  // Wait for the user to pick the files.\n",
              "  const files = yield {\n",
              "    promise: Promise.race([pickedPromise, cancelPromise]),\n",
              "    response: {\n",
              "      action: 'starting',\n",
              "    }\n",
              "  };\n",
              "\n",
              "  cancel.remove();\n",
              "\n",
              "  // Disable the input element since further picks are not allowed.\n",
              "  inputElement.disabled = true;\n",
              "\n",
              "  if (!files) {\n",
              "    return {\n",
              "      response: {\n",
              "        action: 'complete',\n",
              "      }\n",
              "    };\n",
              "  }\n",
              "\n",
              "  for (const file of files) {\n",
              "    const li = document.createElement('li');\n",
              "    li.append(span(file.name, {fontWeight: 'bold'}));\n",
              "    li.append(span(\n",
              "        `(${file.type || 'n/a'}) - ${file.size} bytes, ` +\n",
              "        `last modified: ${\n",
              "            file.lastModifiedDate ? file.lastModifiedDate.toLocaleDateString() :\n",
              "                                    'n/a'} - `));\n",
              "    const percent = span('0% done');\n",
              "    li.appendChild(percent);\n",
              "\n",
              "    outputElement.appendChild(li);\n",
              "\n",
              "    const fileDataPromise = new Promise((resolve) => {\n",
              "      const reader = new FileReader();\n",
              "      reader.onload = (e) => {\n",
              "        resolve(e.target.result);\n",
              "      };\n",
              "      reader.readAsArrayBuffer(file);\n",
              "    });\n",
              "    // Wait for the data to be ready.\n",
              "    let fileData = yield {\n",
              "      promise: fileDataPromise,\n",
              "      response: {\n",
              "        action: 'continue',\n",
              "      }\n",
              "    };\n",
              "\n",
              "    // Use a chunked sending to avoid message size limits. See b/62115660.\n",
              "    let position = 0;\n",
              "    do {\n",
              "      const length = Math.min(fileData.byteLength - position, MAX_PAYLOAD_SIZE);\n",
              "      const chunk = new Uint8Array(fileData, position, length);\n",
              "      position += length;\n",
              "\n",
              "      const base64 = btoa(String.fromCharCode.apply(null, chunk));\n",
              "      yield {\n",
              "        response: {\n",
              "          action: 'append',\n",
              "          file: file.name,\n",
              "          data: base64,\n",
              "        },\n",
              "      };\n",
              "\n",
              "      let percentDone = fileData.byteLength === 0 ?\n",
              "          100 :\n",
              "          Math.round((position / fileData.byteLength) * 100);\n",
              "      percent.textContent = `${percentDone}% done`;\n",
              "\n",
              "    } while (position < fileData.byteLength);\n",
              "  }\n",
              "\n",
              "  // All done.\n",
              "  yield {\n",
              "    response: {\n",
              "      action: 'complete',\n",
              "    }\n",
              "  };\n",
              "}\n",
              "\n",
              "scope.google = scope.google || {};\n",
              "scope.google.colab = scope.google.colab || {};\n",
              "scope.google.colab._files = {\n",
              "  _uploadFiles,\n",
              "  _uploadFilesContinue,\n",
              "};\n",
              "})(self);\n",
              "</script> "
            ]
          },
          "metadata": {}
        },
        {
          "output_type": "stream",
          "name": "stdout",
          "text": [
            "Saving source.txt to source (2).txt\n"
          ]
        },
        {
          "output_type": "display_data",
          "data": {
            "text/plain": [
              "<IPython.core.display.HTML object>"
            ],
            "text/html": [
              "\n",
              "     <input type=\"file\" id=\"files-4d6dbff5-3ec3-438a-9d1f-2a31cf2ed26c\" name=\"files[]\" multiple disabled\n",
              "        style=\"border:none\" />\n",
              "     <output id=\"result-4d6dbff5-3ec3-438a-9d1f-2a31cf2ed26c\">\n",
              "      Upload widget is only available when the cell has been executed in the\n",
              "      current browser session. Please rerun this cell to enable.\n",
              "      </output>\n",
              "      <script>// Copyright 2017 Google LLC\n",
              "//\n",
              "// Licensed under the Apache License, Version 2.0 (the \"License\");\n",
              "// you may not use this file except in compliance with the License.\n",
              "// You may obtain a copy of the License at\n",
              "//\n",
              "//      http://www.apache.org/licenses/LICENSE-2.0\n",
              "//\n",
              "// Unless required by applicable law or agreed to in writing, software\n",
              "// distributed under the License is distributed on an \"AS IS\" BASIS,\n",
              "// WITHOUT WARRANTIES OR CONDITIONS OF ANY KIND, either express or implied.\n",
              "// See the License for the specific language governing permissions and\n",
              "// limitations under the License.\n",
              "\n",
              "/**\n",
              " * @fileoverview Helpers for google.colab Python module.\n",
              " */\n",
              "(function(scope) {\n",
              "function span(text, styleAttributes = {}) {\n",
              "  const element = document.createElement('span');\n",
              "  element.textContent = text;\n",
              "  for (const key of Object.keys(styleAttributes)) {\n",
              "    element.style[key] = styleAttributes[key];\n",
              "  }\n",
              "  return element;\n",
              "}\n",
              "\n",
              "// Max number of bytes which will be uploaded at a time.\n",
              "const MAX_PAYLOAD_SIZE = 100 * 1024;\n",
              "\n",
              "function _uploadFiles(inputId, outputId) {\n",
              "  const steps = uploadFilesStep(inputId, outputId);\n",
              "  const outputElement = document.getElementById(outputId);\n",
              "  // Cache steps on the outputElement to make it available for the next call\n",
              "  // to uploadFilesContinue from Python.\n",
              "  outputElement.steps = steps;\n",
              "\n",
              "  return _uploadFilesContinue(outputId);\n",
              "}\n",
              "\n",
              "// This is roughly an async generator (not supported in the browser yet),\n",
              "// where there are multiple asynchronous steps and the Python side is going\n",
              "// to poll for completion of each step.\n",
              "// This uses a Promise to block the python side on completion of each step,\n",
              "// then passes the result of the previous step as the input to the next step.\n",
              "function _uploadFilesContinue(outputId) {\n",
              "  const outputElement = document.getElementById(outputId);\n",
              "  const steps = outputElement.steps;\n",
              "\n",
              "  const next = steps.next(outputElement.lastPromiseValue);\n",
              "  return Promise.resolve(next.value.promise).then((value) => {\n",
              "    // Cache the last promise value to make it available to the next\n",
              "    // step of the generator.\n",
              "    outputElement.lastPromiseValue = value;\n",
              "    return next.value.response;\n",
              "  });\n",
              "}\n",
              "\n",
              "/**\n",
              " * Generator function which is called between each async step of the upload\n",
              " * process.\n",
              " * @param {string} inputId Element ID of the input file picker element.\n",
              " * @param {string} outputId Element ID of the output display.\n",
              " * @return {!Iterable<!Object>} Iterable of next steps.\n",
              " */\n",
              "function* uploadFilesStep(inputId, outputId) {\n",
              "  const inputElement = document.getElementById(inputId);\n",
              "  inputElement.disabled = false;\n",
              "\n",
              "  const outputElement = document.getElementById(outputId);\n",
              "  outputElement.innerHTML = '';\n",
              "\n",
              "  const pickedPromise = new Promise((resolve) => {\n",
              "    inputElement.addEventListener('change', (e) => {\n",
              "      resolve(e.target.files);\n",
              "    });\n",
              "  });\n",
              "\n",
              "  const cancel = document.createElement('button');\n",
              "  inputElement.parentElement.appendChild(cancel);\n",
              "  cancel.textContent = 'Cancel upload';\n",
              "  const cancelPromise = new Promise((resolve) => {\n",
              "    cancel.onclick = () => {\n",
              "      resolve(null);\n",
              "    };\n",
              "  });\n",
              "\n",
              "  // Wait for the user to pick the files.\n",
              "  const files = yield {\n",
              "    promise: Promise.race([pickedPromise, cancelPromise]),\n",
              "    response: {\n",
              "      action: 'starting',\n",
              "    }\n",
              "  };\n",
              "\n",
              "  cancel.remove();\n",
              "\n",
              "  // Disable the input element since further picks are not allowed.\n",
              "  inputElement.disabled = true;\n",
              "\n",
              "  if (!files) {\n",
              "    return {\n",
              "      response: {\n",
              "        action: 'complete',\n",
              "      }\n",
              "    };\n",
              "  }\n",
              "\n",
              "  for (const file of files) {\n",
              "    const li = document.createElement('li');\n",
              "    li.append(span(file.name, {fontWeight: 'bold'}));\n",
              "    li.append(span(\n",
              "        `(${file.type || 'n/a'}) - ${file.size} bytes, ` +\n",
              "        `last modified: ${\n",
              "            file.lastModifiedDate ? file.lastModifiedDate.toLocaleDateString() :\n",
              "                                    'n/a'} - `));\n",
              "    const percent = span('0% done');\n",
              "    li.appendChild(percent);\n",
              "\n",
              "    outputElement.appendChild(li);\n",
              "\n",
              "    const fileDataPromise = new Promise((resolve) => {\n",
              "      const reader = new FileReader();\n",
              "      reader.onload = (e) => {\n",
              "        resolve(e.target.result);\n",
              "      };\n",
              "      reader.readAsArrayBuffer(file);\n",
              "    });\n",
              "    // Wait for the data to be ready.\n",
              "    let fileData = yield {\n",
              "      promise: fileDataPromise,\n",
              "      response: {\n",
              "        action: 'continue',\n",
              "      }\n",
              "    };\n",
              "\n",
              "    // Use a chunked sending to avoid message size limits. See b/62115660.\n",
              "    let position = 0;\n",
              "    do {\n",
              "      const length = Math.min(fileData.byteLength - position, MAX_PAYLOAD_SIZE);\n",
              "      const chunk = new Uint8Array(fileData, position, length);\n",
              "      position += length;\n",
              "\n",
              "      const base64 = btoa(String.fromCharCode.apply(null, chunk));\n",
              "      yield {\n",
              "        response: {\n",
              "          action: 'append',\n",
              "          file: file.name,\n",
              "          data: base64,\n",
              "        },\n",
              "      };\n",
              "\n",
              "      let percentDone = fileData.byteLength === 0 ?\n",
              "          100 :\n",
              "          Math.round((position / fileData.byteLength) * 100);\n",
              "      percent.textContent = `${percentDone}% done`;\n",
              "\n",
              "    } while (position < fileData.byteLength);\n",
              "  }\n",
              "\n",
              "  // All done.\n",
              "  yield {\n",
              "    response: {\n",
              "      action: 'complete',\n",
              "    }\n",
              "  };\n",
              "}\n",
              "\n",
              "scope.google = scope.google || {};\n",
              "scope.google.colab = scope.google.colab || {};\n",
              "scope.google.colab._files = {\n",
              "  _uploadFiles,\n",
              "  _uploadFilesContinue,\n",
              "};\n",
              "})(self);\n",
              "</script> "
            ]
          },
          "metadata": {}
        },
        {
          "output_type": "stream",
          "name": "stdout",
          "text": [
            "Saving destination.txt to destination (1).txt\n",
            "Content copied from 'source.txt' to 'destination.txt' successfully.\n"
          ]
        }
      ]
    },
    {
      "cell_type": "markdown",
      "source": [
        "5.  How would you catch and handle division by zero error in Python?"
      ],
      "metadata": {
        "id": "e4lqIcEBd29R"
      }
    },
    {
      "cell_type": "code",
      "source": [
        "try:\n",
        "    a = 10\n",
        "    b = 0\n",
        "    result = a / b\n",
        "    print(\"Result:\", result)\n",
        "except ZeroDivisionError:\n",
        "    print(\"Error: Division by zero is not allowed.\")\n"
      ],
      "metadata": {
        "colab": {
          "base_uri": "https://localhost:8080/"
        },
        "id": "a752kGsXeayI",
        "outputId": "326407b7-b358-4d88-acf8-9dfd714b0dbc"
      },
      "execution_count": 15,
      "outputs": [
        {
          "output_type": "stream",
          "name": "stdout",
          "text": [
            "Error: Division by zero is not allowed.\n"
          ]
        }
      ]
    },
    {
      "cell_type": "markdown",
      "source": [
        "6. Write a Python program that logs an error message to a log file when a division by zero exception occurs"
      ],
      "metadata": {
        "id": "bJa4-RLCfReK"
      }
    },
    {
      "cell_type": "code",
      "source": [
        "import logging\n",
        "\n",
        "# Configure logging\n",
        "logging.basicConfig(\n",
        "    filename=\"error.log\",          # Log file name\n",
        "    level=logging.ERROR,           # Only log errors and above\n",
        "    format=\"%(asctime)s - %(levelname)s - %(message)s\"\n",
        ")\n",
        "\n",
        "try:\n",
        "    a = 10\n",
        "    b = 0\n",
        "    result = a / b\n",
        "    print(\"Result:\", result)\n",
        "except ZeroDivisionError:\n",
        "    logging.error(\"Division by zero occurred. Cannot divide %d by %d.\", a, b)\n",
        "    print(\"An error occurred. Check 'error.log' for details.\")\n"
      ],
      "metadata": {
        "colab": {
          "base_uri": "https://localhost:8080/"
        },
        "id": "s8E2piyIfahg",
        "outputId": "dab47411-4677-4432-f674-02149aab5723"
      },
      "execution_count": 16,
      "outputs": [
        {
          "output_type": "stream",
          "name": "stderr",
          "text": [
            "ERROR:root:Division by zero occurred. Cannot divide 10 by 0.\n"
          ]
        },
        {
          "output_type": "stream",
          "name": "stdout",
          "text": [
            "An error occurred. Check 'error.log' for details.\n"
          ]
        }
      ]
    },
    {
      "cell_type": "markdown",
      "source": [
        "7.  How do you log information at different levels (INFO, ERROR, WARNING) in Python using the logging module ?"
      ],
      "metadata": {
        "id": "TUkl1HcWfxYo"
      }
    },
    {
      "cell_type": "code",
      "source": [
        "import logging\n",
        "\n",
        "# Configure the logging settings\n",
        "logging.basicConfig(\n",
        "    filename=\"app.log\",               # Log file name\n",
        "    level=logging.DEBUG,             # Log everything from DEBUG and above\n",
        "    format=\"%(asctime)s - %(levelname)s - %(message)s\"\n",
        ")\n",
        "\n",
        "# Log messages at different levels\n",
        "logging.info(\"This is an INFO message. Everything is running smoothly.\")\n",
        "logging.warning(\"This is a WARNING message. Something might be wrong.\")\n",
        "logging.error(\"This is an ERROR message. Something went wrong!\")\n",
        "\n",
        "print(\"Logging completed. Check 'app.log' file for details.\")\n"
      ],
      "metadata": {
        "colab": {
          "base_uri": "https://localhost:8080/"
        },
        "id": "qxRp99u5f3XY",
        "outputId": "58ee4a21-61d0-4c23-efe6-4b44fd8a9b30"
      },
      "execution_count": 17,
      "outputs": [
        {
          "output_type": "stream",
          "name": "stderr",
          "text": [
            "WARNING:root:This is a WARNING message. Something might be wrong.\n",
            "ERROR:root:This is an ERROR message. Something went wrong!\n"
          ]
        },
        {
          "output_type": "stream",
          "name": "stdout",
          "text": [
            "Logging completed. Check 'app.log' file for details.\n"
          ]
        }
      ]
    },
    {
      "cell_type": "markdown",
      "source": [
        "8. Write a program to handle a file opening error using exception handling ?"
      ],
      "metadata": {
        "id": "rpVSdGYvgE9Y"
      }
    },
    {
      "cell_type": "code",
      "source": [
        "filename = \"non_existing_file.txt\"\n",
        "\n",
        "try:\n",
        "    # Try to open the file\n",
        "    with open(filename, \"r\") as file:\n",
        "        content = file.read()\n",
        "        print(content)\n",
        "\n",
        "except FileNotFoundError:\n",
        "    print(f\"Error: The file '{filename}' was not found.\")\n",
        "\n",
        "except PermissionError:\n",
        "    print(f\"Error: You don't have permission to open the file '{filename}'.\")\n",
        "\n",
        "except Exception as e:\n",
        "    print(f\"An unexpected error occurred: {e}\")\n"
      ],
      "metadata": {
        "colab": {
          "base_uri": "https://localhost:8080/"
        },
        "id": "mP-UXllcgJmv",
        "outputId": "ecec724b-94dd-4ca0-86d7-956ce66c1bae"
      },
      "execution_count": 18,
      "outputs": [
        {
          "output_type": "stream",
          "name": "stdout",
          "text": [
            "Error: The file 'non_existing_file.txt' was not found.\n"
          ]
        }
      ]
    },
    {
      "cell_type": "markdown",
      "source": [
        "9.  How can you read a file line by line and store its content in a list in Python ?"
      ],
      "metadata": {
        "id": "A1zqUYjugbOZ"
      }
    },
    {
      "cell_type": "code",
      "source": [
        "from google.colab import files\n",
        "\n",
        "# Upload file\n",
        "uploaded = files.upload()\n",
        "filename = \"sample.txt\"\n",
        "\n",
        "try:\n",
        "    with open(filename, \"r\") as file:\n",
        "        lines = file.readlines()  # Reads all lines into a list\n",
        "\n",
        "    # Remove newline characters if needed\n",
        "    lines = [line.strip() for line in lines]\n",
        "\n",
        "    print(\"File content as a list:\")\n",
        "    print(lines)\n",
        "\n",
        "except FileNotFoundError:\n",
        "    print(f\"Error: The file '{filename}' was not found.\")\n"
      ],
      "metadata": {
        "colab": {
          "base_uri": "https://localhost:8080/",
          "height": 108
        },
        "id": "De7RPjbWgiG8",
        "outputId": "bd783b29-82fc-46ec-cf1c-1813e72e2d3b"
      },
      "execution_count": 26,
      "outputs": [
        {
          "output_type": "display_data",
          "data": {
            "text/plain": [
              "<IPython.core.display.HTML object>"
            ],
            "text/html": [
              "\n",
              "     <input type=\"file\" id=\"files-10462c30-c852-4dca-b676-ed0913b6e570\" name=\"files[]\" multiple disabled\n",
              "        style=\"border:none\" />\n",
              "     <output id=\"result-10462c30-c852-4dca-b676-ed0913b6e570\">\n",
              "      Upload widget is only available when the cell has been executed in the\n",
              "      current browser session. Please rerun this cell to enable.\n",
              "      </output>\n",
              "      <script>// Copyright 2017 Google LLC\n",
              "//\n",
              "// Licensed under the Apache License, Version 2.0 (the \"License\");\n",
              "// you may not use this file except in compliance with the License.\n",
              "// You may obtain a copy of the License at\n",
              "//\n",
              "//      http://www.apache.org/licenses/LICENSE-2.0\n",
              "//\n",
              "// Unless required by applicable law or agreed to in writing, software\n",
              "// distributed under the License is distributed on an \"AS IS\" BASIS,\n",
              "// WITHOUT WARRANTIES OR CONDITIONS OF ANY KIND, either express or implied.\n",
              "// See the License for the specific language governing permissions and\n",
              "// limitations under the License.\n",
              "\n",
              "/**\n",
              " * @fileoverview Helpers for google.colab Python module.\n",
              " */\n",
              "(function(scope) {\n",
              "function span(text, styleAttributes = {}) {\n",
              "  const element = document.createElement('span');\n",
              "  element.textContent = text;\n",
              "  for (const key of Object.keys(styleAttributes)) {\n",
              "    element.style[key] = styleAttributes[key];\n",
              "  }\n",
              "  return element;\n",
              "}\n",
              "\n",
              "// Max number of bytes which will be uploaded at a time.\n",
              "const MAX_PAYLOAD_SIZE = 100 * 1024;\n",
              "\n",
              "function _uploadFiles(inputId, outputId) {\n",
              "  const steps = uploadFilesStep(inputId, outputId);\n",
              "  const outputElement = document.getElementById(outputId);\n",
              "  // Cache steps on the outputElement to make it available for the next call\n",
              "  // to uploadFilesContinue from Python.\n",
              "  outputElement.steps = steps;\n",
              "\n",
              "  return _uploadFilesContinue(outputId);\n",
              "}\n",
              "\n",
              "// This is roughly an async generator (not supported in the browser yet),\n",
              "// where there are multiple asynchronous steps and the Python side is going\n",
              "// to poll for completion of each step.\n",
              "// This uses a Promise to block the python side on completion of each step,\n",
              "// then passes the result of the previous step as the input to the next step.\n",
              "function _uploadFilesContinue(outputId) {\n",
              "  const outputElement = document.getElementById(outputId);\n",
              "  const steps = outputElement.steps;\n",
              "\n",
              "  const next = steps.next(outputElement.lastPromiseValue);\n",
              "  return Promise.resolve(next.value.promise).then((value) => {\n",
              "    // Cache the last promise value to make it available to the next\n",
              "    // step of the generator.\n",
              "    outputElement.lastPromiseValue = value;\n",
              "    return next.value.response;\n",
              "  });\n",
              "}\n",
              "\n",
              "/**\n",
              " * Generator function which is called between each async step of the upload\n",
              " * process.\n",
              " * @param {string} inputId Element ID of the input file picker element.\n",
              " * @param {string} outputId Element ID of the output display.\n",
              " * @return {!Iterable<!Object>} Iterable of next steps.\n",
              " */\n",
              "function* uploadFilesStep(inputId, outputId) {\n",
              "  const inputElement = document.getElementById(inputId);\n",
              "  inputElement.disabled = false;\n",
              "\n",
              "  const outputElement = document.getElementById(outputId);\n",
              "  outputElement.innerHTML = '';\n",
              "\n",
              "  const pickedPromise = new Promise((resolve) => {\n",
              "    inputElement.addEventListener('change', (e) => {\n",
              "      resolve(e.target.files);\n",
              "    });\n",
              "  });\n",
              "\n",
              "  const cancel = document.createElement('button');\n",
              "  inputElement.parentElement.appendChild(cancel);\n",
              "  cancel.textContent = 'Cancel upload';\n",
              "  const cancelPromise = new Promise((resolve) => {\n",
              "    cancel.onclick = () => {\n",
              "      resolve(null);\n",
              "    };\n",
              "  });\n",
              "\n",
              "  // Wait for the user to pick the files.\n",
              "  const files = yield {\n",
              "    promise: Promise.race([pickedPromise, cancelPromise]),\n",
              "    response: {\n",
              "      action: 'starting',\n",
              "    }\n",
              "  };\n",
              "\n",
              "  cancel.remove();\n",
              "\n",
              "  // Disable the input element since further picks are not allowed.\n",
              "  inputElement.disabled = true;\n",
              "\n",
              "  if (!files) {\n",
              "    return {\n",
              "      response: {\n",
              "        action: 'complete',\n",
              "      }\n",
              "    };\n",
              "  }\n",
              "\n",
              "  for (const file of files) {\n",
              "    const li = document.createElement('li');\n",
              "    li.append(span(file.name, {fontWeight: 'bold'}));\n",
              "    li.append(span(\n",
              "        `(${file.type || 'n/a'}) - ${file.size} bytes, ` +\n",
              "        `last modified: ${\n",
              "            file.lastModifiedDate ? file.lastModifiedDate.toLocaleDateString() :\n",
              "                                    'n/a'} - `));\n",
              "    const percent = span('0% done');\n",
              "    li.appendChild(percent);\n",
              "\n",
              "    outputElement.appendChild(li);\n",
              "\n",
              "    const fileDataPromise = new Promise((resolve) => {\n",
              "      const reader = new FileReader();\n",
              "      reader.onload = (e) => {\n",
              "        resolve(e.target.result);\n",
              "      };\n",
              "      reader.readAsArrayBuffer(file);\n",
              "    });\n",
              "    // Wait for the data to be ready.\n",
              "    let fileData = yield {\n",
              "      promise: fileDataPromise,\n",
              "      response: {\n",
              "        action: 'continue',\n",
              "      }\n",
              "    };\n",
              "\n",
              "    // Use a chunked sending to avoid message size limits. See b/62115660.\n",
              "    let position = 0;\n",
              "    do {\n",
              "      const length = Math.min(fileData.byteLength - position, MAX_PAYLOAD_SIZE);\n",
              "      const chunk = new Uint8Array(fileData, position, length);\n",
              "      position += length;\n",
              "\n",
              "      const base64 = btoa(String.fromCharCode.apply(null, chunk));\n",
              "      yield {\n",
              "        response: {\n",
              "          action: 'append',\n",
              "          file: file.name,\n",
              "          data: base64,\n",
              "        },\n",
              "      };\n",
              "\n",
              "      let percentDone = fileData.byteLength === 0 ?\n",
              "          100 :\n",
              "          Math.round((position / fileData.byteLength) * 100);\n",
              "      percent.textContent = `${percentDone}% done`;\n",
              "\n",
              "    } while (position < fileData.byteLength);\n",
              "  }\n",
              "\n",
              "  // All done.\n",
              "  yield {\n",
              "    response: {\n",
              "      action: 'complete',\n",
              "    }\n",
              "  };\n",
              "}\n",
              "\n",
              "scope.google = scope.google || {};\n",
              "scope.google.colab = scope.google.colab || {};\n",
              "scope.google.colab._files = {\n",
              "  _uploadFiles,\n",
              "  _uploadFilesContinue,\n",
              "};\n",
              "})(self);\n",
              "</script> "
            ]
          },
          "metadata": {}
        },
        {
          "output_type": "stream",
          "name": "stdout",
          "text": [
            "Saving sample.txt to sample (4).txt\n",
            "File content as a list:\n",
            "[]\n"
          ]
        }
      ]
    },
    {
      "cell_type": "markdown",
      "source": [
        "10. How can you append data to an existing file in Python ?\n",
        "    \n",
        "    \n",
        "\n"
      ],
      "metadata": {
        "id": "JF1lRpgYiBI_"
      }
    },
    {
      "cell_type": "code",
      "source": [
        "filename = \"example.txt\"\n",
        "\n",
        "try:\n",
        "    # Open the file in append mode\n",
        "    with open(filename, \"a\") as file:\n",
        "        file.write(\"\\nThis line is added at the end of the file.\")\n",
        "\n",
        "    print(f\"Data successfully appended to '{filename}'.\")\n",
        "\n",
        "except FileNotFoundError:\n",
        "    print(f\"Error: The file '{filename}' was not found.\")\n",
        "except Exception as e:\n",
        "    print(f\"An unexpected error occurred: {e}\")\n"
      ],
      "metadata": {
        "colab": {
          "base_uri": "https://localhost:8080/"
        },
        "id": "z6nLi2VBkcTb",
        "outputId": "600bb131-2a25-484d-b8c9-a4dce3f5571e"
      },
      "execution_count": 30,
      "outputs": [
        {
          "output_type": "stream",
          "name": "stdout",
          "text": [
            "Data successfully appended to 'example.txt'.\n"
          ]
        }
      ]
    },
    {
      "cell_type": "markdown",
      "source": [
        "11. Write a Python program that uses a try-except block to handle an error when attempting to access a\n",
        "dictionary key that doesn't exist"
      ],
      "metadata": {
        "id": "xcGcVXUylyly"
      }
    },
    {
      "cell_type": "code",
      "source": [
        "# Sample dictionary\n",
        "data = {\n",
        "    \"name\": \"Alice\",\n",
        "    \"age\": 25,\n",
        "    \"city\": \"New York\"\n",
        "}\n",
        "\n",
        "try:\n",
        "    # Trying to access a key that doesn't exist\n",
        "    print(data[\"country\"])\n",
        "except KeyError:\n",
        "    print(\"Error: The key 'country' does not exist in the dictionary.\")\n"
      ],
      "metadata": {
        "colab": {
          "base_uri": "https://localhost:8080/"
        },
        "id": "yq3Y4GX2l8kG",
        "outputId": "7812e193-7900-43a9-eb27-dec207c2b077"
      },
      "execution_count": 31,
      "outputs": [
        {
          "output_type": "stream",
          "name": "stdout",
          "text": [
            "Error: The key 'country' does not exist in the dictionary.\n"
          ]
        }
      ]
    },
    {
      "cell_type": "markdown",
      "source": [
        "12.Write a program that demonstrates using multiple except blocks to handle different types of exceptions."
      ],
      "metadata": {
        "id": "RqdpwMagmC1o"
      }
    },
    {
      "cell_type": "code",
      "source": [
        "try:\n",
        "    # Get user input\n",
        "    num1 = int(input(\"Enter the first number: \"))\n",
        "    num2 = int(input(\"Enter the second number: \"))\n",
        "\n",
        "    # Perform division\n",
        "    result = num1 / num2\n",
        "\n",
        "    # Accessing a dictionary key\n",
        "    data = {\"name\": \"Alice\", \"age\": 25}\n",
        "    print(\"City:\", data[\"city\"])   # This key does not exist\n",
        "\n",
        "except ZeroDivisionError:\n",
        "    print(\"Error: Division by zero is not allowed.\")\n",
        "\n",
        "except ValueError:\n",
        "    print(\"Error: Please enter valid numbers only.\")\n",
        "\n",
        "except KeyError:\n",
        "    print(\"Error: The dictionary key you tried to access does not exist.\")\n",
        "\n",
        "except Exception as e:\n",
        "    print(f\"An unexpected error occurred: {e}\")\n",
        "\n",
        "else:\n",
        "    print(\"Division result:\", result)\n",
        "\n",
        "finally:\n",
        "    print(\"Program execution completed.\")\n"
      ],
      "metadata": {
        "colab": {
          "base_uri": "https://localhost:8080/"
        },
        "id": "GrTTV1DwmMTg",
        "outputId": "a9bd2a02-bb8b-4835-81ee-63c57837f87d"
      },
      "execution_count": 32,
      "outputs": [
        {
          "output_type": "stream",
          "name": "stdout",
          "text": [
            "Enter the first number: 10\n",
            "Enter the second number: 6\n",
            "Error: The dictionary key you tried to access does not exist.\n",
            "Program execution completed.\n"
          ]
        }
      ]
    },
    {
      "cell_type": "markdown",
      "source": [
        "13. How would you check if a file exists before attempting to read it in Python ?"
      ],
      "metadata": {
        "id": "Cpgu7SL0mn3_"
      }
    },
    {
      "cell_type": "code",
      "source": [
        "import os\n",
        "\n",
        "filename = \"sample.txt\"\n",
        "\n",
        "if os.path.exists(filename):\n",
        "    with open(filename, \"r\") as file:\n",
        "        content = file.read()\n",
        "        print(\"File content:\")\n",
        "        print(content)\n",
        "else:\n",
        "    print(f\"Error: The file '{filename}' does not exist.\")\n"
      ],
      "metadata": {
        "colab": {
          "base_uri": "https://localhost:8080/"
        },
        "id": "L0Bh0X7cmsvH",
        "outputId": "eb9ab860-c448-47e9-8889-05ca2907ff0b"
      },
      "execution_count": 33,
      "outputs": [
        {
          "output_type": "stream",
          "name": "stdout",
          "text": [
            "File content:\n",
            "\n"
          ]
        }
      ]
    },
    {
      "cell_type": "markdown",
      "source": [
        "14. Write a program that uses the logging module to log both informational and error messages."
      ],
      "metadata": {
        "id": "THSxlGVEDrWt"
      }
    },
    {
      "cell_type": "code",
      "source": [
        "import logging\n",
        "\n",
        "# Configure logging\n",
        "logging.basicConfig(\n",
        "    filename=\"app.log\",                 # Log file name\n",
        "    level=logging.INFO,                 # Minimum level of logging\n",
        "    format=\"%(asctime)s - %(levelname)s - %(message)s\"\n",
        ")\n",
        "\n",
        "def divide_numbers(a, b):\n",
        "    try:\n",
        "        result = a / b\n",
        "        logging.info(f\"Division successful: {a} / {b} = {result}\")\n",
        "        return result\n",
        "    except ZeroDivisionError:\n",
        "        logging.error(f\"Error: Division by zero attempted. a={a}, b={b}\")\n",
        "        return None\n",
        "\n",
        "# Example usage\n",
        "logging.info(\"Program started.\")\n",
        "\n",
        "x = 10\n",
        "y = 0\n",
        "\n",
        "output = divide_numbers(x, y)\n",
        "\n",
        "if output is None:\n",
        "    print(\"An error occurred. Check 'app.log' for details.\")\n",
        "else:\n",
        "    print(f\"Result: {output}\")\n",
        "\n",
        "logging.info(\"Program ended.\")\n"
      ],
      "metadata": {
        "colab": {
          "base_uri": "https://localhost:8080/"
        },
        "id": "iO6LpqMSED82",
        "outputId": "a21aad83-dbc8-4132-e84e-caa5edbbb854"
      },
      "execution_count": 1,
      "outputs": [
        {
          "output_type": "stream",
          "name": "stderr",
          "text": [
            "ERROR:root:Error: Division by zero attempted. a=10, b=0\n"
          ]
        },
        {
          "output_type": "stream",
          "name": "stdout",
          "text": [
            "An error occurred. Check 'app.log' for details.\n"
          ]
        }
      ]
    },
    {
      "cell_type": "markdown",
      "source": [
        "15.  Write a Python program that prints the content of a file and handles the case when the file is empty.\n"
      ],
      "metadata": {
        "id": "U1Ly4QcpEOS7"
      }
    },
    {
      "cell_type": "code",
      "source": [
        "import os\n",
        "\n",
        "filename = \"sample.txt\"\n",
        "\n",
        "try:\n",
        "    if not os.path.exists(filename):\n",
        "        print(f\"Error: The file '{filename}' does not exist.\")\n",
        "    else:\n",
        "        with open(filename, \"r\") as file:\n",
        "            content = file.read()\n",
        "\n",
        "            if content.strip() == \"\":\n",
        "                print(\"The file is empty.\")\n",
        "            else:\n",
        "                print(\"File content:\")\n",
        "                print(content)\n",
        "\n",
        "except Exception as e:\n",
        "    print(f\"An unexpected error occurred: {e}\")\n"
      ],
      "metadata": {
        "colab": {
          "base_uri": "https://localhost:8080/"
        },
        "id": "eN3YGdV2EX3L",
        "outputId": "e9789eb7-24ee-4cc9-a122-e1b135189554"
      },
      "execution_count": 2,
      "outputs": [
        {
          "output_type": "stream",
          "name": "stdout",
          "text": [
            "Error: The file 'sample.txt' does not exist.\n"
          ]
        }
      ]
    },
    {
      "cell_type": "markdown",
      "source": [
        "16.Demonstrate how to use memory profiling to check the memory usage of a small program."
      ],
      "metadata": {
        "id": "-mzTj8T_Es-j"
      }
    },
    {
      "cell_type": "code",
      "source": [
        "pip install memory-profiler\n"
      ],
      "metadata": {
        "colab": {
          "base_uri": "https://localhost:8080/"
        },
        "id": "yW1aTlIrEyqs",
        "outputId": "3c7b611e-a69d-4ac2-d1a5-745204e4c1fd"
      },
      "execution_count": 3,
      "outputs": [
        {
          "output_type": "stream",
          "name": "stdout",
          "text": [
            "Collecting memory-profiler\n",
            "  Downloading memory_profiler-0.61.0-py3-none-any.whl.metadata (20 kB)\n",
            "Requirement already satisfied: psutil in /usr/local/lib/python3.12/dist-packages (from memory-profiler) (5.9.5)\n",
            "Downloading memory_profiler-0.61.0-py3-none-any.whl (31 kB)\n",
            "Installing collected packages: memory-profiler\n",
            "Successfully installed memory-profiler-0.61.0\n"
          ]
        }
      ]
    },
    {
      "cell_type": "code",
      "source": [
        "from memory_profiler import profile\n",
        "\n",
        "@profile\n",
        "def create_list():\n",
        "    # Creating a large list to check memory usage\n",
        "    big_list = [i for i in range(1000000)]\n",
        "    return big_list\n",
        "\n",
        "if __name__ == \"__main__\":\n",
        "    create_list()\n"
      ],
      "metadata": {
        "colab": {
          "base_uri": "https://localhost:8080/"
        },
        "id": "GAd0SNPWE9ZB",
        "outputId": "7ffa5375-f143-40ea-ecfb-de290ac816a0"
      },
      "execution_count": 6,
      "outputs": [
        {
          "output_type": "stream",
          "name": "stdout",
          "text": [
            "ERROR: Could not find file /tmp/ipython-input-3691862848.py\n"
          ]
        }
      ]
    },
    {
      "cell_type": "markdown",
      "source": [
        "17. Write a Python program to create and write a list of numbers to a file, one number per line."
      ],
      "metadata": {
        "id": "Zw8HQ4RHFw-b"
      }
    },
    {
      "cell_type": "code",
      "source": [
        "# Define a list of numbers\n",
        "numbers = [10, 20, 30, 40, 50]\n",
        "\n",
        "# File name to write the numbers\n",
        "filename = \"numbers.txt\"\n",
        "\n",
        "try:\n",
        "    # Open the file in write mode\n",
        "    with open(filename, \"w\") as file:\n",
        "        for num in numbers:\n",
        "            file.write(str(num) + \"\\n\")  # Convert number to string and add newline\n",
        "\n",
        "    print(f\"Numbers successfully written to '{filename}'.\")\n",
        "\n",
        "except Exception as e:\n",
        "    print(f\"An error occurred: {e}\")\n"
      ],
      "metadata": {
        "colab": {
          "base_uri": "https://localhost:8080/"
        },
        "id": "b5CE3Q6NF43S",
        "outputId": "6b7a42ea-19ac-4464-80e9-f0a5afe6e396"
      },
      "execution_count": 7,
      "outputs": [
        {
          "output_type": "stream",
          "name": "stdout",
          "text": [
            "Numbers successfully written to 'numbers.txt'.\n"
          ]
        }
      ]
    },
    {
      "cell_type": "markdown",
      "source": [
        "18. How would you implement a basic logging setup that logs to a file with rotation after 1MB."
      ],
      "metadata": {
        "id": "kesQHCnmGnvs"
      }
    },
    {
      "cell_type": "code",
      "source": [
        "import logging\n",
        "from logging.handlers import RotatingFileHandler\n",
        "\n",
        "# Create a logger\n",
        "logger = logging.getLogger(\"MyLogger\")\n",
        "logger.setLevel(logging.INFO)  # Set the logging level\n",
        "\n",
        "# Create a rotating file handler\n",
        "handler = RotatingFileHandler(\n",
        "    \"app.log\",           # Log file name\n",
        "    maxBytes=1*1024*1024,  # Rotate after 1 MB\n",
        "    backupCount=3          # Keep up to 3 old log files\n",
        ")\n",
        "\n",
        "# Create a log format\n",
        "formatter = logging.Formatter('%(asctime)s - %(levelname)s - %(message)s')\n",
        "handler.setFormatter(formatter)\n",
        "\n",
        "# Add handler to the logger\n",
        "logger.addHandler(handler)\n",
        "\n",
        "# Example logs\n",
        "logger.info(\"This is an info message\")\n",
        "logger.warning(\"This is a warning message\")\n",
        "logger.error(\"This is an error message\")\n"
      ],
      "metadata": {
        "colab": {
          "base_uri": "https://localhost:8080/"
        },
        "id": "B3bVPnr_Gt0b",
        "outputId": "d018d105-dfc0-4cf7-d2a8-1eaf363dcc1f"
      },
      "execution_count": 8,
      "outputs": [
        {
          "output_type": "stream",
          "name": "stderr",
          "text": [
            "INFO:MyLogger:This is an info message\n",
            "WARNING:MyLogger:This is a warning message\n",
            "ERROR:MyLogger:This is an error message\n"
          ]
        }
      ]
    },
    {
      "cell_type": "markdown",
      "source": [
        "19. Write a program that handles both IndexError and KeyError using a try-except block."
      ],
      "metadata": {
        "id": "YMqlOf1-HQwC"
      }
    },
    {
      "cell_type": "code",
      "source": [
        "# Sample list and dictionary\n",
        "my_list = [1, 2, 3]\n",
        "my_dict = {\"a\": 10, \"b\": 20}\n",
        "\n",
        "try:\n",
        "    # Intentionally cause IndexError\n",
        "    print(my_list[5])  # Invalid index\n",
        "\n",
        "    # Intentionally cause KeyError\n",
        "    print(my_dict[\"c\"])  # Key doesn't exist\n",
        "\n",
        "except IndexError:\n",
        "    print(\"IndexError: Tried to access an invalid list index.\")\n",
        "\n",
        "except KeyError:\n",
        "    print(\"KeyError: Tried to access a key that doesn't exist in the dictionary.\")\n",
        "\n",
        "except Exception as e:\n",
        "    # Catches any other unexpected exceptions\n",
        "    print(f\"An unexpected error occurred: {e}\")\n"
      ],
      "metadata": {
        "colab": {
          "base_uri": "https://localhost:8080/"
        },
        "id": "YS0eA3DYHZpR",
        "outputId": "f6bc6984-770f-49d7-8ec5-56c4f68a7bbe"
      },
      "execution_count": 9,
      "outputs": [
        {
          "output_type": "stream",
          "name": "stdout",
          "text": [
            "IndexError: Tried to access an invalid list index.\n"
          ]
        }
      ]
    },
    {
      "cell_type": "markdown",
      "source": [
        "20.  How would you open a file and read its contents using a context manager in Python."
      ],
      "metadata": {
        "id": "kcQR0KoRHz-q"
      }
    },
    {
      "cell_type": "code",
      "source": [
        "from google.colab import files\n",
        "\n",
        "# Upload file\n",
        "uploaded = files.upload()\n",
        "# Open and read file using a context manager\n",
        "filename = \"example.txt\"\n",
        "\n",
        "try:\n",
        "    with open(filename, \"r\") as file:\n",
        "        content = file.read()\n",
        "        print(\"File contents:\\n\")\n",
        "        print(content)\n",
        "except FileNotFoundError:\n",
        "    print(f\"The file '{filename}' does not exist.\")\n",
        "except Exception as e:\n",
        "    print(f\"An error occurred: {e}\")\n"
      ],
      "metadata": {
        "colab": {
          "base_uri": "https://localhost:8080/",
          "height": 90
        },
        "id": "VCWpZ4RxH4pp",
        "outputId": "eadb5c2f-ac93-4eac-a037-5d7a8adffaf4"
      },
      "execution_count": 11,
      "outputs": [
        {
          "output_type": "display_data",
          "data": {
            "text/plain": [
              "<IPython.core.display.HTML object>"
            ],
            "text/html": [
              "\n",
              "     <input type=\"file\" id=\"files-aedfa74e-ca75-4af0-9cb8-6f17f78f82c1\" name=\"files[]\" multiple disabled\n",
              "        style=\"border:none\" />\n",
              "     <output id=\"result-aedfa74e-ca75-4af0-9cb8-6f17f78f82c1\">\n",
              "      Upload widget is only available when the cell has been executed in the\n",
              "      current browser session. Please rerun this cell to enable.\n",
              "      </output>\n",
              "      <script>// Copyright 2017 Google LLC\n",
              "//\n",
              "// Licensed under the Apache License, Version 2.0 (the \"License\");\n",
              "// you may not use this file except in compliance with the License.\n",
              "// You may obtain a copy of the License at\n",
              "//\n",
              "//      http://www.apache.org/licenses/LICENSE-2.0\n",
              "//\n",
              "// Unless required by applicable law or agreed to in writing, software\n",
              "// distributed under the License is distributed on an \"AS IS\" BASIS,\n",
              "// WITHOUT WARRANTIES OR CONDITIONS OF ANY KIND, either express or implied.\n",
              "// See the License for the specific language governing permissions and\n",
              "// limitations under the License.\n",
              "\n",
              "/**\n",
              " * @fileoverview Helpers for google.colab Python module.\n",
              " */\n",
              "(function(scope) {\n",
              "function span(text, styleAttributes = {}) {\n",
              "  const element = document.createElement('span');\n",
              "  element.textContent = text;\n",
              "  for (const key of Object.keys(styleAttributes)) {\n",
              "    element.style[key] = styleAttributes[key];\n",
              "  }\n",
              "  return element;\n",
              "}\n",
              "\n",
              "// Max number of bytes which will be uploaded at a time.\n",
              "const MAX_PAYLOAD_SIZE = 100 * 1024;\n",
              "\n",
              "function _uploadFiles(inputId, outputId) {\n",
              "  const steps = uploadFilesStep(inputId, outputId);\n",
              "  const outputElement = document.getElementById(outputId);\n",
              "  // Cache steps on the outputElement to make it available for the next call\n",
              "  // to uploadFilesContinue from Python.\n",
              "  outputElement.steps = steps;\n",
              "\n",
              "  return _uploadFilesContinue(outputId);\n",
              "}\n",
              "\n",
              "// This is roughly an async generator (not supported in the browser yet),\n",
              "// where there are multiple asynchronous steps and the Python side is going\n",
              "// to poll for completion of each step.\n",
              "// This uses a Promise to block the python side on completion of each step,\n",
              "// then passes the result of the previous step as the input to the next step.\n",
              "function _uploadFilesContinue(outputId) {\n",
              "  const outputElement = document.getElementById(outputId);\n",
              "  const steps = outputElement.steps;\n",
              "\n",
              "  const next = steps.next(outputElement.lastPromiseValue);\n",
              "  return Promise.resolve(next.value.promise).then((value) => {\n",
              "    // Cache the last promise value to make it available to the next\n",
              "    // step of the generator.\n",
              "    outputElement.lastPromiseValue = value;\n",
              "    return next.value.response;\n",
              "  });\n",
              "}\n",
              "\n",
              "/**\n",
              " * Generator function which is called between each async step of the upload\n",
              " * process.\n",
              " * @param {string} inputId Element ID of the input file picker element.\n",
              " * @param {string} outputId Element ID of the output display.\n",
              " * @return {!Iterable<!Object>} Iterable of next steps.\n",
              " */\n",
              "function* uploadFilesStep(inputId, outputId) {\n",
              "  const inputElement = document.getElementById(inputId);\n",
              "  inputElement.disabled = false;\n",
              "\n",
              "  const outputElement = document.getElementById(outputId);\n",
              "  outputElement.innerHTML = '';\n",
              "\n",
              "  const pickedPromise = new Promise((resolve) => {\n",
              "    inputElement.addEventListener('change', (e) => {\n",
              "      resolve(e.target.files);\n",
              "    });\n",
              "  });\n",
              "\n",
              "  const cancel = document.createElement('button');\n",
              "  inputElement.parentElement.appendChild(cancel);\n",
              "  cancel.textContent = 'Cancel upload';\n",
              "  const cancelPromise = new Promise((resolve) => {\n",
              "    cancel.onclick = () => {\n",
              "      resolve(null);\n",
              "    };\n",
              "  });\n",
              "\n",
              "  // Wait for the user to pick the files.\n",
              "  const files = yield {\n",
              "    promise: Promise.race([pickedPromise, cancelPromise]),\n",
              "    response: {\n",
              "      action: 'starting',\n",
              "    }\n",
              "  };\n",
              "\n",
              "  cancel.remove();\n",
              "\n",
              "  // Disable the input element since further picks are not allowed.\n",
              "  inputElement.disabled = true;\n",
              "\n",
              "  if (!files) {\n",
              "    return {\n",
              "      response: {\n",
              "        action: 'complete',\n",
              "      }\n",
              "    };\n",
              "  }\n",
              "\n",
              "  for (const file of files) {\n",
              "    const li = document.createElement('li');\n",
              "    li.append(span(file.name, {fontWeight: 'bold'}));\n",
              "    li.append(span(\n",
              "        `(${file.type || 'n/a'}) - ${file.size} bytes, ` +\n",
              "        `last modified: ${\n",
              "            file.lastModifiedDate ? file.lastModifiedDate.toLocaleDateString() :\n",
              "                                    'n/a'} - `));\n",
              "    const percent = span('0% done');\n",
              "    li.appendChild(percent);\n",
              "\n",
              "    outputElement.appendChild(li);\n",
              "\n",
              "    const fileDataPromise = new Promise((resolve) => {\n",
              "      const reader = new FileReader();\n",
              "      reader.onload = (e) => {\n",
              "        resolve(e.target.result);\n",
              "      };\n",
              "      reader.readAsArrayBuffer(file);\n",
              "    });\n",
              "    // Wait for the data to be ready.\n",
              "    let fileData = yield {\n",
              "      promise: fileDataPromise,\n",
              "      response: {\n",
              "        action: 'continue',\n",
              "      }\n",
              "    };\n",
              "\n",
              "    // Use a chunked sending to avoid message size limits. See b/62115660.\n",
              "    let position = 0;\n",
              "    do {\n",
              "      const length = Math.min(fileData.byteLength - position, MAX_PAYLOAD_SIZE);\n",
              "      const chunk = new Uint8Array(fileData, position, length);\n",
              "      position += length;\n",
              "\n",
              "      const base64 = btoa(String.fromCharCode.apply(null, chunk));\n",
              "      yield {\n",
              "        response: {\n",
              "          action: 'append',\n",
              "          file: file.name,\n",
              "          data: base64,\n",
              "        },\n",
              "      };\n",
              "\n",
              "      let percentDone = fileData.byteLength === 0 ?\n",
              "          100 :\n",
              "          Math.round((position / fileData.byteLength) * 100);\n",
              "      percent.textContent = `${percentDone}% done`;\n",
              "\n",
              "    } while (position < fileData.byteLength);\n",
              "  }\n",
              "\n",
              "  // All done.\n",
              "  yield {\n",
              "    response: {\n",
              "      action: 'complete',\n",
              "    }\n",
              "  };\n",
              "}\n",
              "\n",
              "scope.google = scope.google || {};\n",
              "scope.google.colab = scope.google.colab || {};\n",
              "scope.google.colab._files = {\n",
              "  _uploadFiles,\n",
              "  _uploadFilesContinue,\n",
              "};\n",
              "})(self);\n",
              "</script> "
            ]
          },
          "metadata": {}
        },
        {
          "output_type": "stream",
          "name": "stdout",
          "text": [
            "Saving example.txt.txt to example.txt.txt\n",
            "The file 'example.txt' does not exist.\n"
          ]
        }
      ]
    },
    {
      "cell_type": "markdown",
      "source": [
        "21. Write a Python program that reads a file and prints the number of occurrences of a specific word."
      ],
      "metadata": {
        "id": "_fGtvHvfI2Np"
      }
    },
    {
      "cell_type": "code",
      "source": [
        "# File name and word to search\n",
        "filename = \"example.txt\"\n",
        "word_to_search = \"python\"\n",
        "\n",
        "try:\n",
        "    with open(filename, \"r\") as file:\n",
        "        content = file.read().lower()  # Convert to lowercase for case-insensitive matching\n",
        "\n",
        "    # Count the number of occurrences of the word\n",
        "    word_count = content.split().count(word_to_search.lower())\n",
        "\n",
        "    print(f\"The word '{word_to_search}' appears {word_count} times in '{filename}'.\")\n",
        "\n",
        "except FileNotFoundError:\n",
        "    print(f\"The file '{filename}' does not exist.\")\n",
        "except Exception as e:\n",
        "    print(f\"An error occurred: {e}\")\n"
      ],
      "metadata": {
        "colab": {
          "base_uri": "https://localhost:8080/"
        },
        "id": "-VmtH3nzI-aZ",
        "outputId": "9882d0de-7664-4539-ef08-32a1fd25881c"
      },
      "execution_count": 12,
      "outputs": [
        {
          "output_type": "stream",
          "name": "stdout",
          "text": [
            "The file 'example.txt' does not exist.\n"
          ]
        }
      ]
    },
    {
      "cell_type": "markdown",
      "source": [
        "22.  How can you check if a file is empty before attempting to read its contents."
      ],
      "metadata": {
        "id": "5MEpYrj5Jng5"
      }
    },
    {
      "cell_type": "code",
      "source": [
        "import os\n",
        "\n",
        "filename = \"example.txt\"\n",
        "\n",
        "# Check if file exists\n",
        "if os.path.exists(filename):\n",
        "    # Check file size\n",
        "    if os.path.getsize(filename) == 0:\n",
        "        print(f\"The file '{filename}' is empty.\")\n",
        "    else:\n",
        "        with open(filename, \"r\") as file:\n",
        "            content = file.read()\n",
        "            print(\"File contents:\\n\", content)\n",
        "else:\n",
        "    print(f\"The file '{filename}' does not exist.\")\n"
      ],
      "metadata": {
        "colab": {
          "base_uri": "https://localhost:8080/"
        },
        "id": "zkBH9POMK_ra",
        "outputId": "9537c5ad-ac64-4869-89fd-876f53f78c70"
      },
      "execution_count": 13,
      "outputs": [
        {
          "output_type": "stream",
          "name": "stdout",
          "text": [
            "The file 'example.txt' does not exist.\n"
          ]
        }
      ]
    },
    {
      "cell_type": "markdown",
      "source": [
        "23. Write a Python program that writes to a log file when an error occurs during file handling."
      ],
      "metadata": {
        "id": "UOjphxihL7SL"
      }
    },
    {
      "cell_type": "code",
      "source": [
        "import logging\n",
        "\n",
        "# Configure logging\n",
        "logging.basicConfig(\n",
        "    filename=\"file_errors.log\",       # Log file name\n",
        "    level=logging.ERROR,             # Only log errors or higher\n",
        "    format=\"%(asctime)s - %(levelname)s - %(message)s\"\n",
        ")\n",
        "\n",
        "filename = \"non_existing_file.txt\"\n",
        "\n",
        "try:\n",
        "    # Try to open and read a file\n",
        "    with open(filename, \"r\") as file:\n",
        "        content = file.read()\n",
        "        print(content)\n",
        "\n",
        "except FileNotFoundError as e:\n",
        "    print(f\"Error: The file '{filename}' was not found.\")\n",
        "    logging.error(f\"FileNotFoundError: {e}\")\n",
        "\n",
        "except PermissionError as e:\n",
        "    print(f\"Error: You don't have permission to access '{filename}'.\")\n",
        "    logging.error(f\"PermissionError: {e}\")\n",
        "\n",
        "except Exception as e:\n",
        "    print(f\"An unexpected error occurred: {e}\")\n",
        "    logging.error(f\"Unexpected error: {e}\")\n"
      ],
      "metadata": {
        "colab": {
          "base_uri": "https://localhost:8080/"
        },
        "id": "8Htc4DHiMFEB",
        "outputId": "f04bfb01-ceb2-438c-8946-9aa0639c9a98"
      },
      "execution_count": 14,
      "outputs": [
        {
          "output_type": "stream",
          "name": "stderr",
          "text": [
            "ERROR:root:FileNotFoundError: [Errno 2] No such file or directory: 'non_existing_file.txt'\n"
          ]
        },
        {
          "output_type": "stream",
          "name": "stdout",
          "text": [
            "Error: The file 'non_existing_file.txt' was not found.\n"
          ]
        }
      ]
    }
  ]
}